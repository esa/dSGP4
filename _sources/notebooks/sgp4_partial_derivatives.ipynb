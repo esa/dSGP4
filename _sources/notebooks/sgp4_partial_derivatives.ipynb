{
 "cells": [
  {
   "cell_type": "markdown",
   "metadata": {},
   "source": [
    "# Partial Derivatives Computation via Autodiff\n",
    "\n",
    "In this notebook, we show how to use the autodiff feature of $\\partial\\textrm{SGP4}$. Due to the fact that it is written in `pytorch`, it automatically supports automatic differentiation via `torch.autograd`. \n",
    "\n",
    "In this notebook, we show how these partial derivatives can be constructed: for more advanced examples on how to use these gradients for practical applications, see the tutorials on `state_transition_matrix_computation`, `covariance_propagation`, `graident_based_optimization`, `orbit_determination`."
   ]
  },
  {
   "cell_type": "code",
   "execution_count": 1,
   "metadata": {},
   "outputs": [],
   "source": [
    "import dsgp4\n",
    "import torch"
   ]
  },
  {
   "cell_type": "markdown",
   "metadata": {},
   "source": [
    "We create a TLE object"
   ]
  },
  {
   "cell_type": "code",
   "execution_count": 2,
   "metadata": {},
   "outputs": [
    {
     "name": "stdout",
     "output_type": "stream",
     "text": [
      "TLE(\n",
      "0 COSMOS 2251 DEB\n",
      "1 34454U 93036SX  22068.91971155  .00000319  00000-0  11812-3 0  9996\n",
      "2 34454  74.0583 280.7094 0037596 327.9100  31.9764 14.35844873683320\n",
      ")\n"
     ]
    }
   ],
   "source": [
    "#as always, first, we create a TLE object:\n",
    "tle=[]\n",
    "tle.append('0 COSMOS 2251 DEB')\n",
    "tle.append('1 34454U 93036SX  22068.91971155  .00000319  00000-0  11812-3 0  9996')\n",
    "tle.append('2 34454  74.0583 280.7094 0037596 327.9100  31.9764 14.35844873683320')\n",
    "tle = dsgp4.tle.TLE(tle)\n",
    "print(tle)"
   ]
  },
  {
   "cell_type": "markdown",
   "metadata": {},
   "source": [
    "Now, as shown in the `tle_propagation` tutorial, we can propagate the TLE. However, instead of using the standard API, we require `torch.autograd` to record the operations w.r.t. the time."
   ]
  },
  {
   "cell_type": "markdown",
   "metadata": {},
   "source": [
    "## Partials with respect to time\n",
    "\n",
    "Let's compute the partials of the $\\partial \\textrm{SGP4}$ output w.r.t. the propagation times\n",
    "\n",
    "### Single TLEs\n",
    "\n",
    "Let's first see the case of single TLEs, propagated at various future times:"
   ]
  },
  {
   "cell_type": "code",
   "execution_count": 3,
   "metadata": {},
   "outputs": [
    {
     "name": "stdout",
     "output_type": "stream",
     "text": [
      "tensor([[[ 1.4324e+03, -6.9744e+03,  3.9044e+02],\n",
      "         [ 1.9394e+00,  7.9228e-01,  7.1912e+00]],\n",
      "\n",
      "        [[ 1.4096e+03, -6.9831e+03,  3.0627e+02],\n",
      "         [ 1.9577e+00,  7.0238e-01,  7.1957e+00]],\n",
      "\n",
      "        [[ 1.3535e+03, -7.0000e+03,  1.0194e+02],\n",
      "         [ 2.0008e+00,  4.8392e-01,  7.2021e+00]],\n",
      "\n",
      "        [[ 1.3436e+03, -7.0023e+03,  6.6410e+01],\n",
      "         [ 2.0081e+00,  4.4589e-01,  7.2025e+00]],\n",
      "\n",
      "        [[ 1.3465e+03, -7.0016e+03,  7.6861e+01],\n",
      "         [ 2.0060e+00,  4.5708e-01,  7.2024e+00]],\n",
      "\n",
      "        [[ 1.3664e+03, -6.9967e+03,  1.4850e+02],\n",
      "         [ 1.9911e+00,  5.3373e-01,  7.2012e+00]],\n",
      "\n",
      "        [[ 1.3373e+03, -7.0036e+03,  4.4048e+01],\n",
      "         [ 2.0127e+00,  4.2196e-01,  7.2027e+00]],\n",
      "\n",
      "        [[ 1.4265e+03, -6.9768e+03,  3.6857e+02],\n",
      "         [ 1.9441e+00,  7.6892e-01,  7.1924e+00]],\n",
      "\n",
      "        [[ 1.4082e+03, -6.9836e+03,  3.0110e+02],\n",
      "         [ 1.9588e+00,  6.9686e-01,  7.1959e+00]],\n",
      "\n",
      "        [[ 1.3772e+03, -6.9937e+03,  1.8760e+02],\n",
      "         [ 1.9829e+00,  5.7555e-01,  7.2002e+00]]],\n",
      "       grad_fn=<TransposeBackward0>)\n"
     ]
    }
   ],
   "source": [
    "#let's take a random tensor of 10 tsince elements, where we track the gradients:\n",
    "tsince=torch.rand((10,),requires_grad=True)\n",
    "#the state is then:\n",
    "state_teme = dsgp4.propagate(tle,\n",
    "                tsinces=tsince,\n",
    "                initialized=False)\n",
    "#now, we can see that the gradient is tracked:\n",
    "print(state_teme)"
   ]
  },
  {
   "cell_type": "markdown",
   "metadata": {},
   "source": [
    "Let's now retrieve the partial derivatives of the SGP4 output w.r.t. time.\n",
    "\n",
    "Since the state is position and velocity (i.e., $[x,y,z,v_x,v_y,v_z]$), these partials will be all the elements of type:\n",
    "\\begin{equation}\n",
    "\\dfrac{d \\pmb{x}}{d t}=[\\dfrac{dx}{dt}, \\dfrac{dy}{dt}, \\dfrac{dz}{dt}, \\dfrac{d^2x}{dt^2}, \\dfrac{d^2y}{dt^2}, \\dfrac{d^2z}{dt^2}]^T=[v_x, v_y, v_z, \\dfrac{dv_x}{dt}, \\dfrac{dv_y}{dt}, \\dfrac{dv_z}{dt}]^T\n",
    "\\end{equation}\n",
    "\n",
    "\n",
    "```{note}\n",
    "One thing to be careful about is that $\\partial\\textrm{SGP4}$, mirroring the original $\\textrm{SGP4}$, takes the time in minutes, and returns the state in km and km/s. Hence, the derivatives will have dimensions coherent to these, and to return to SI, conversions have to be made.\n",
    "```"
   ]
  },
  {
   "cell_type": "code",
   "execution_count": 4,
   "metadata": {},
   "outputs": [
    {
     "name": "stdout",
     "output_type": "stream",
     "text": [
      "tensor([[[ 1.1636e+02,  4.7537e+01,  4.3147e+02],\n",
      "         [-9.4609e-02,  4.6064e-01, -2.5855e-02]],\n",
      "\n",
      "        [[ 1.1746e+02,  4.2143e+01,  4.3174e+02],\n",
      "         [-9.3107e-02,  4.6124e-01, -2.0282e-02]],\n",
      "\n",
      "        [[ 1.2005e+02,  2.9035e+01,  4.3213e+02],\n",
      "         [-8.9406e-02,  4.6240e-01, -6.7516e-03]],\n",
      "\n",
      "        [[ 1.2049e+02,  2.6754e+01,  4.3215e+02],\n",
      "         [-8.8754e-02,  4.6256e-01, -4.3986e-03]],\n",
      "\n",
      "        [[ 1.2036e+02,  2.7425e+01,  4.3215e+02],\n",
      "         [-8.8946e-02,  4.6251e-01, -5.0907e-03]],\n",
      "\n",
      "        [[ 1.1947e+02,  3.2024e+01,  4.3207e+02],\n",
      "         [-9.0257e-02,  4.6217e-01, -9.8352e-03]],\n",
      "\n",
      "        [[ 1.2077e+02,  2.5318e+01,  4.3216e+02],\n",
      "         [-8.8343e-02,  4.6265e-01, -2.9176e-03]],\n",
      "\n",
      "        [[ 1.1665e+02,  4.6136e+01,  4.3155e+02],\n",
      "         [-9.4220e-02,  4.6080e-01, -2.4406e-02]],\n",
      "\n",
      "        [[ 1.1753e+02,  4.1812e+01,  4.3176e+02],\n",
      "         [-9.3015e-02,  4.6127e-01, -1.9940e-02]],\n",
      "\n",
      "        [[ 1.1898e+02,  3.4533e+01,  4.3201e+02],\n",
      "         [-9.0968e-02,  4.6196e-01, -1.2424e-02]]])\n"
     ]
    }
   ],
   "source": [
    "partial_derivatives = torch.zeros_like(state_teme)\n",
    "for i in [0,1]:\n",
    "    for j in [0,1,2]:\n",
    "        tsince.grad=None\n",
    "        state_teme[:,i,j].backward(torch.ones_like(tsince),retain_graph=True)\n",
    "        partial_derivatives[:,i,j] = tsince.grad\n",
    "\n",
    "#let's print to screen the partials:\n",
    "print(partial_derivatives)"
   ]
  },
  {
   "cell_type": "markdown",
   "metadata": {},
   "source": [
    "### Batch TLEs\n",
    "\n",
    "Let's now see how it works for batch TLEs. The API is basically identical:"
   ]
  },
  {
   "cell_type": "code",
   "execution_count": 5,
   "metadata": {},
   "outputs": [],
   "source": [
    "#we load 6 TLEs:\n",
    "inp_file=\"\"\"0 PSLV DEB\n",
    "1 35350U 01049QJ  22068.76869562  .00000911  00000-0  24939-3 0  9998\n",
    "2 35350  98.6033  64.7516 0074531  99.8340 261.1278 14.48029442457561\n",
    "0 PSLV DEB *\n",
    "1 35351U 01049QK  22066.70636923  .00002156  00000-0  63479-3 0  9999\n",
    "2 35351  98.8179  29.5651 0005211  45.5944 314.5671 14.44732274457505\n",
    "0 SL-18 DEB\n",
    "1 35354U 93014BD  22068.76520028  .00021929  00000-0  20751-2 0  9995\n",
    "2 35354  75.7302 100.7819 0059525 350.7978   9.2117 14.92216400847487\n",
    "0 SL-18 DEB\n",
    "1 35359U 93014BJ  22068.55187275  .00025514  00000-0  24908-2 0  9992\n",
    "2 35359  75.7369 156.1582 0054843  50.5279 310.0745 14.91164684775759\n",
    "0 SL-18 DEB\n",
    "1 35360U 93014BK  22068.44021735  .00019061  00000-0  20292-2 0  9992\n",
    "2 35360  75.7343 127.2487 0071107  32.5913 327.9635 14.86997880798827\n",
    "0 METEOR 2-17 DEB\n",
    "1 35364U 88005Y   22067.81503681  .00001147  00000-0  84240-3 0  9995\n",
    "2 35364  82.5500  92.4124 0018834 303.2489 178.0638 13.94853833332534\"\"\"\n",
    "lines=inp_file.splitlines()\n",
    "#let's create the TLE objects\n",
    "tles=[]\n",
    "for i in range(0,len(lines),3):\n",
    "    data=[]\n",
    "    data.append(lines[i])\n",
    "    data.append(lines[i+1])\n",
    "    data.append(lines[i+2])\n",
    "    tles.append(dsgp4.tle.TLE(data))\n",
    "#we also create 9 random times, tracking the gradients:\n",
    "tsinces=torch.rand((6,),requires_grad=True)"
   ]
  },
  {
   "cell_type": "code",
   "execution_count": 6,
   "metadata": {},
   "outputs": [],
   "source": [
    "#let's propagate the batch:\n",
    "state_teme = dsgp4.propagate_batch(tles,\n",
    "                tsinces=tsinces,\n",
    "                initialized=False)"
   ]
  },
  {
   "cell_type": "markdown",
   "metadata": {},
   "source": [
    "Now, let's retrieve the partial of each TLE, at each propagated time, and store them into a Nx2x3 matrix:"
   ]
  },
  {
   "cell_type": "code",
   "execution_count": 7,
   "metadata": {},
   "outputs": [
    {
     "name": "stdout",
     "output_type": "stream",
     "text": [
      "tensor([[[ 5.4025e+01, -4.2648e+01,  4.4350e+02],\n",
      "         [-2.0308e-01, -4.2630e-01, -1.2250e-02]],\n",
      "\n",
      "        [[ 2.8727e+01, -6.2794e+01,  4.4374e+02],\n",
      "         [-4.1113e-01, -2.3223e-01, -5.5870e-03]],\n",
      "\n",
      "        [[-1.0698e+02, -3.8831e+01,  4.4205e+02],\n",
      "         [ 9.7992e-02, -4.8842e-01, -1.9301e-02]],\n",
      "\n",
      "        [[-2.8367e+01, -1.0994e+02,  4.4098e+02],\n",
      "         [ 4.5503e-01, -1.9636e-01, -1.7090e-02]],\n",
      "\n",
      "        [[-8.6062e+01, -7.2340e+01,  4.4194e+02],\n",
      "         [ 3.0114e-01, -3.9458e-01, -3.4948e-03]],\n",
      "\n",
      "        [[ 4.5807e+01, -3.7642e+02, -2.2897e+02],\n",
      "         [ 3.9648e-02,  2.3558e-01, -3.7947e-01]]])\n"
     ]
    }
   ],
   "source": [
    "#let's retrieve the partials w.r.t. time:\n",
    "partial_derivatives = torch.zeros_like(state_teme)\n",
    "for i in [0,1]:\n",
    "    for j in [0,1,2]:\n",
    "        tsinces.grad=None\n",
    "        state_teme[:,i,j].backward(torch.ones_like(tsinces),retain_graph=True)\n",
    "        partial_derivatives[:,i,j] = tsinces.grad\n",
    "\n",
    "#let's print to screen the partials:\n",
    "print(partial_derivatives)"
   ]
  },
  {
   "cell_type": "markdown",
   "metadata": {},
   "source": [
    "## Partials with respect to TLE parameters\n",
    "\n",
    "Let's now tackle the case in which we are interested in the partials of the $\\partial\\textrm{SGP4}$ output w.r.t. the TLE parameters.\n",
    "\n",
    "### Single TLEs\n",
    "\n",
    "We first tackle the case of single TLE, propagated at multiple times:"
   ]
  },
  {
   "cell_type": "markdown",
   "metadata": {},
   "source": [
    "In this case, we want the Jacobian of the output state, w.r.t. the following TLE parameters $\\textrm{TLE}=[n,e,i,\\Omega,\\omega,M,B^*,\\dot{n},\\ddot{n}]$, where:\n",
    "\n",
    "* $n$ is the mean motion (also known as `no_kozai` in the original implementation) [rad/minute]; \n",
    "* $e$ is the eccentricity [-]; \n",
    "* $i$ is the inclination [rad]; \n",
    "* $\\Omega$ is the right ascension of the ascending node [rad]; \n",
    "* $\\omega$ is the argument of perigee [rad];\n",
    "* $M$ is the mean anomaly [rad];\n",
    "* $B^*$ is the Bstar parameter [1/earth radii]\n",
    "* $\\dot{n}$ mean motion first derivative [radians/$\\textrm{minute}^2$]\n",
    "* $\\ddot{n}$ mean motion second derivative [radians/$\\textrm{minute}^2$]\n",
    "\n",
    "\\begin{equation}\n",
    "\\dfrac{\\partial \\pmb{x}}{\\partial \\textrm{TLE}}=\n",
    "\\begin{bmatrix}\n",
    "\\frac{\\partial x}{\\partial B^*} & \\frac{\\partial x}{\\partial \\dot{n}} & \\frac{\\partial x}{\\partial \\ddot{n}} & \\frac{\\partial x}{\\partial e} & \\frac{\\partial x}{\\partial \\omega} & \\frac{\\partial x}{\\partial i} & \\frac{\\partial x}{\\partial M} & \\frac{\\partial x}{\\partial n} & \\frac{\\partial x}{\\partial \\Omega} \\\\\n",
    "\\\\\n",
    "\\frac{\\partial y}{\\partial B^*} & \\frac{\\partial y}{\\partial \\dot{n}} & \\frac{\\partial y}{\\partial \\ddot{n}} & \\frac{\\partial y}{\\partial e} & \\frac{\\partial y}{\\partial \\omega} & \\frac{\\partial y}{\\partial i} & \\frac{\\partial y}{\\partial M} & \\frac{\\partial y}{\\partial n} & \\frac{\\partial y}{\\partial \\Omega} \\\\\n",
    "\\\\\n",
    "\\frac{\\partial z}{\\partial B^*} & \\frac{\\partial z}{\\partial \\dot{n}} & \\frac{\\partial z}{\\partial \\ddot{n}} & \\frac{\\partial z}{\\partial e} & \\frac{\\partial z}{\\partial \\omega} & \\frac{\\partial z}{\\partial i} & \\frac{\\partial z}{\\partial M} & \\frac{\\partial z}{\\partial n} & \\frac{\\partial z}{\\partial \\Omega} \\\\\n",
    "\\\\\n",
    "\\frac{\\partial v_x}{\\partial B^*} & \\frac{\\partial v_x}{\\partial \\dot{n}} & \\frac{\\partial v_x}{\\partial \\ddot{n}} & \\frac{\\partial v_x}{\\partial e} & \\frac{\\partial v_x}{\\partial \\omega} & \\frac{\\partial v_x}{\\partial i} & \\frac{\\partial v_x}{\\partial M} & \\frac{\\partial v_x}{\\partial n} & \\frac{\\partial v_x}{\\partial \\Omega} \\\\\n",
    "\\\\\n",
    "\\frac{\\partial v_y}{\\partial B^*} & \\frac{\\partial v_y}{\\partial \\dot{n}} & \\frac{\\partial v_y}{\\partial \\ddot{n}} & \\frac{\\partial v_y}{\\partial e} & \\frac{\\partial v_y}{\\partial \\omega} & \\frac{\\partial v_y}{\\partial i} & \\frac{\\partial v_y}{\\partial M} & \\frac{\\partial v_y}{\\partial n} & \\frac{\\partial v_y}{\\partial \\Omega} \\\\\n",
    "\\\\\n",
    "\\frac{\\partial v_z}{\\partial B^*} & \\frac{\\partial v_z}{\\partial \\dot{n}} & \\frac{\\partial v_z}{\\partial \\ddot{n}} & \\frac{\\partial v_z}{\\partial e} & \\frac{\\partial v_z}{\\partial \\omega} & \\frac{\\partial v_z}{\\partial i} & \\frac{\\partial v_z}{\\partial M} & \\frac{\\partial v_z}{\\partial n} & \\frac{\\partial v_z}{\\partial \\Omega} \\\\\n",
    "\\\\\n",
    "\\frac{\\partial \\dot{n}}{\\partial B^*} & \\frac{\\partial \\dot{n}}{\\partial \\dot{n}} & \\frac{\\partial \\dot{n}}{\\partial \\ddot{n}} & \\frac{\\partial \\dot{n}}{\\partial e} & \\frac{\\partial \\dot{n}}{\\partial \\omega} & \\frac{\\partial \\dot{n}}{\\partial i} & \\frac{\\partial \\dot{n}}{\\partial M} & \\frac{\\partial \\dot{n}}{\\partial n} & \\frac{\\partial \\dot{n}}{\\partial \\Omega} \\\\\n",
    "\\\\\n",
    "\\frac{\\partial \\ddot{n}}{\\partial B^*} & \\frac{\\partial \\ddot{n}}{\\partial \\dot{n}} & \\frac{\\partial \\ddot{n}}{\\partial \\ddot{n}} & \\frac{\\partial \\ddot{n}}{\\partial e} & \\frac{\\partial \\ddot{n}}{\\partial \\omega} & \\frac{\\partial \\ddot{n}}{\\partial i} & \\frac{\\partial \\ddot{n}}{\\partial M} & \\frac{\\partial \\ddot{n}}{\\partial n} & \\frac{\\partial \\ddot{n}}{\\partial \\Omega}\n",
    "\\end{bmatrix}\n",
    "\\end{equation}"
   ]
  },
  {
   "cell_type": "code",
   "execution_count": 8,
   "metadata": {},
   "outputs": [
    {
     "name": "stdout",
     "output_type": "stream",
     "text": [
      "TLE(\n",
      "0 COSMOS 2251 DEB\n",
      "1 34454U 93036SX  22068.91971155  .00000319  00000-0  11812-3 0  9996\n",
      "2 34454  74.0583 280.7094 0037596 327.9100  31.9764 14.35844873683320\n",
      ")\n"
     ]
    }
   ],
   "source": [
    "#as always, first, we create a TLE object:\n",
    "tle=[]\n",
    "tle.append('0 COSMOS 2251 DEB')\n",
    "tle.append('1 34454U 93036SX  22068.91971155  .00000319  00000-0  11812-3 0  9996')\n",
    "tle.append('2 34454  74.0583 280.7094 0037596 327.9100  31.9764 14.35844873683320')\n",
    "tle = dsgp4.tle.TLE(tle)\n",
    "print(tle)\n",
    "tle_elements=dsgp4.initialize_tle(tle,with_grad=True)"
   ]
  },
  {
   "cell_type": "code",
   "execution_count": 9,
   "metadata": {},
   "outputs": [],
   "source": [
    "#let's select 10 random times:\n",
    "tsince=torch.rand((10,))\n",
    "#and let's propagate:\n",
    "state_teme=dsgp4.propagate(tle,tsince)"
   ]
  },
  {
   "cell_type": "code",
   "execution_count": 10,
   "metadata": {},
   "outputs": [
    {
     "name": "stdout",
     "output_type": "stream",
     "text": [
      "tensor([[[-6.4523e-05,  0.0000e+00,  0.0000e+00,  9.4688e+02,  1.8970e+03,\n",
      "          -1.3843e+02,  1.9118e+03, -1.3927e+04,  6.9973e+03],\n",
      "         [-3.2480e-04,  0.0000e+00,  0.0000e+00,  6.4275e+03,  5.1484e+02,\n",
      "          -2.9536e+01,  5.0358e+02,  7.4557e+04,  1.3641e+03],\n",
      "         [-4.3288e-04,  0.0000e+00,  0.0000e+00,  7.4336e+03,  6.8559e+03,\n",
      "           3.6047e+01,  6.8995e+03,  5.9987e+02,  0.0000e+00],\n",
      "         [-6.4902e-07,  0.0000e+00,  0.0000e+00,  8.7493e-01, -1.4304e+00,\n",
      "          -7.0725e+00, -1.4391e+00,  1.0128e+01, -5.2510e-01],\n",
      "         [-3.8817e-07,  0.0000e+00,  0.0000e+00,  4.5053e+00,  7.3591e+00,\n",
      "          -1.3399e+00,  7.3813e+00,  5.1095e+00,  1.9928e+00],\n",
      "         [-2.4810e-06,  0.0000e+00,  0.0000e+00,  5.9443e+00, -1.3321e-01,\n",
      "           2.0514e+00, -1.4851e-01,  3.8287e+01,  0.0000e+00]],\n",
      "\n",
      "        [[-1.5784e-04,  0.0000e+00,  0.0000e+00,  9.6539e+02,  1.8644e+03,\n",
      "          -2.9674e+02,  1.8790e+03, -1.3708e+04,  6.9836e+03],\n",
      "         [-7.1066e-04,  0.0000e+00,  0.0000e+00,  6.5314e+03,  6.7948e+02,\n",
      "          -5.9530e+01,  6.6870e+02,  7.4713e+04,  1.4084e+03],\n",
      "         [-1.0042e-03,  0.0000e+00,  0.0000e+00,  7.5646e+03,  6.8510e+03,\n",
      "           8.1968e+01,  6.8942e+03,  1.4552e+03,  0.0000e+00],\n",
      "         [-1.3692e-06,  0.0000e+00,  0.0000e+00,  7.6603e-01, -1.4769e+00,\n",
      "          -7.0671e+00, -1.4857e+00,  9.3776e+00, -6.9742e-01],\n",
      "         [-9.2182e-07,  0.0000e+00,  0.0000e+00,  4.7759e+00,  7.3449e+00,\n",
      "          -1.3390e+00,  7.3662e+00,  8.7716e+00,  1.9587e+00],\n",
      "         [-5.3008e-06,  0.0000e+00,  0.0000e+00,  5.7453e+00, -3.0261e-01,\n",
      "           2.0499e+00, -3.1894e-01,  3.8087e+01,  0.0000e+00]],\n",
      "\n",
      "        [[-1.5725e-04,  0.0000e+00,  0.0000e+00,  9.6529e+02,  1.8646e+03,\n",
      "          -2.9582e+02,  1.8792e+03, -1.3710e+04,  6.9837e+03],\n",
      "         [-7.0839e-04,  0.0000e+00,  0.0000e+00,  6.5308e+03,  6.7853e+02,\n",
      "          -5.9358e+01,  6.6774e+02,  7.4712e+04,  1.4081e+03],\n",
      "         [-1.0007e-03,  0.0000e+00,  0.0000e+00,  7.5639e+03,  6.8511e+03,\n",
      "           8.1704e+01,  6.8943e+03,  1.4503e+03,  0.0000e+00],\n",
      "         [-1.3651e-06,  0.0000e+00,  0.0000e+00,  7.6666e-01, -1.4766e+00,\n",
      "          -7.0671e+00, -1.4854e+00,  9.3821e+00, -6.9643e-01],\n",
      "         [-9.1848e-07,  0.0000e+00,  0.0000e+00,  4.7743e+00,  7.3450e+00,\n",
      "          -1.3391e+00,  7.3663e+00,  8.7505e+00,  1.9589e+00],\n",
      "         [-5.2847e-06,  0.0000e+00,  0.0000e+00,  5.7465e+00, -3.0163e-01,\n",
      "           2.0499e+00, -3.1796e-01,  3.8089e+01,  0.0000e+00]],\n",
      "\n",
      "        [[-1.0884e-04,  0.0000e+00,  0.0000e+00,  9.5647e+02,  1.8808e+03,\n",
      "          -2.1790e+02,  1.8955e+03, -1.3815e+04,  6.9909e+03],\n",
      "         [-5.1662e-04,  0.0000e+00,  0.0000e+00,  6.4789e+03,  5.9751e+02,\n",
      "          -4.4593e+01,  5.8649e+02,  7.4625e+04,  1.3864e+03],\n",
      "         [-7.0979e-04,  0.0000e+00,  0.0000e+00,  7.4999e+03,  6.8539e+03,\n",
      "           5.9099e+01,  6.8973e+03,  1.0297e+03,  0.0000e+00],\n",
      "         [-1.0139e-06,  0.0000e+00,  0.0000e+00,  8.2050e-01, -1.4538e+00,\n",
      "          -7.0703e+00, -1.4625e+00,  9.7565e+00, -6.1163e-01],\n",
      "         [-6.4445e-07,  0.0000e+00,  0.0000e+00,  4.6424e+00,  7.3525e+00,\n",
      "          -1.3396e+00,  7.3743e+00,  6.9494e+00,  1.9758e+00],\n",
      "         [-3.9006e-06,  0.0000e+00,  0.0000e+00,  5.8460e+00, -2.1825e-01,\n",
      "           2.0508e+00, -2.3407e-01,  3.8205e+01,  0.0000e+00]],\n",
      "\n",
      "        [[-1.1683e-04,  0.0000e+00,  0.0000e+00,  9.5804e+02,  1.8780e+03,\n",
      "          -2.3133e+02,  1.8927e+03, -1.3797e+04,  6.9897e+03],\n",
      "         [-5.4941e-04,  0.0000e+00,  0.0000e+00,  6.4877e+03,  6.1148e+02,\n",
      "          -4.7138e+01,  6.0050e+02,  7.4639e+04,  1.3902e+03],\n",
      "         [-7.5857e-04,  0.0000e+00,  0.0000e+00,  7.5111e+03,  6.8535e+03,\n",
      "           6.2996e+01,  6.8969e+03,  1.1023e+03,  0.0000e+00],\n",
      "         [-1.0750e-06,  0.0000e+00,  0.0000e+00,  8.1125e-01, -1.4578e+00,\n",
      "          -7.0698e+00, -1.4665e+00,  9.6926e+00, -6.2626e-01],\n",
      "         [-6.9009e-07,  0.0000e+00,  0.0000e+00,  4.6653e+00,  7.3513e+00,\n",
      "          -1.3395e+00,  7.3730e+00,  7.2601e+00,  1.9729e+00],\n",
      "         [-4.1398e-06,  0.0000e+00,  0.0000e+00,  5.8291e+00, -2.3262e-01,\n",
      "           2.0507e+00, -2.4853e-01,  3.8188e+01,  0.0000e+00]],\n",
      "\n",
      "        [[-1.0549e-04,  0.0000e+00,  0.0000e+00,  9.5581e+02,  1.8819e+03,\n",
      "          -2.1219e+02,  1.8967e+03, -1.3823e+04,  6.9914e+03],\n",
      "         [-5.0273e-04,  0.0000e+00,  0.0000e+00,  6.4751e+03,  5.9158e+02,\n",
      "          -4.3512e+01,  5.8054e+02,  7.4620e+04,  1.3848e+03],\n",
      "         [-6.8925e-04,  0.0000e+00,  0.0000e+00,  7.4952e+03,  6.8541e+03,\n",
      "           5.7444e+01,  6.8975e+03,  9.9891e+02,  0.0000e+00],\n",
      "         [-9.8798e-07,  0.0000e+00,  0.0000e+00,  8.2442e-01, -1.4522e+00,\n",
      "          -7.0705e+00, -1.4609e+00,  9.7835e+00, -6.0543e-01],\n",
      "         [-6.2527e-07,  0.0000e+00,  0.0000e+00,  4.6326e+00,  7.3530e+00,\n",
      "          -1.3396e+00,  7.3748e+00,  6.8174e+00,  1.9770e+00],\n",
      "         [-3.7990e-06,  0.0000e+00,  0.0000e+00,  5.8532e+00, -2.1214e-01,\n",
      "           2.0509e+00, -2.2793e-01,  3.8212e+01,  0.0000e+00]],\n",
      "\n",
      "        [[-5.8663e-05,  0.0000e+00,  0.0000e+00,  9.4547e+02,  1.8993e+03,\n",
      "          -1.2717e+02,  1.9141e+03, -1.3943e+04,  6.9981e+03],\n",
      "         [-2.9791e-04,  0.0000e+00,  0.0000e+00,  6.4203e+03,  5.0313e+02,\n",
      "          -2.7403e+01,  4.9183e+02,  7.4549e+04,  1.3610e+03],\n",
      "         [-3.9527e-04,  0.0000e+00,  0.0000e+00,  7.4242e+03,  6.8561e+03,\n",
      "           3.2781e+01,  6.8997e+03,  5.3892e+02,  0.0000e+00],\n",
      "         [-5.9678e-07,  0.0000e+00,  0.0000e+00,  8.8260e-01, -1.4271e+00,\n",
      "          -7.0727e+00, -1.4357e+00,  1.0180e+01, -5.1283e-01],\n",
      "         [-3.5377e-07,  0.0000e+00,  0.0000e+00,  4.4857e+00,  7.3600e+00,\n",
      "          -1.3399e+00,  7.3822e+00,  4.8486e+00,  1.9952e+00],\n",
      "         [-2.2793e-06,  0.0000e+00,  0.0000e+00,  5.9579e+00, -1.2116e-01,\n",
      "           2.0514e+00, -1.3638e-01,  3.8296e+01,  0.0000e+00]],\n",
      "\n",
      "        [[-9.0232e-05,  0.0000e+00,  0.0000e+00,  9.5266e+02,  1.8874e+03,\n",
      "          -1.8564e+02,  1.9021e+03, -1.3860e+04,  6.9936e+03],\n",
      "         [-4.3833e-04,  0.0000e+00,  0.0000e+00,  6.4578e+03,  5.6397e+02,\n",
      "          -3.8482e+01,  5.5285e+02,  7.4595e+04,  1.3774e+03],\n",
      "         [-5.9500e-04,  0.0000e+00,  0.0000e+00,  7.4732e+03,  6.8548e+03,\n",
      "           4.9743e+01,  6.8983e+03,  8.5537e+02,  0.0000e+00],\n",
      "         [-8.6666e-07,  0.0000e+00,  0.0000e+00,  8.4265e-01, -1.4444e+00,\n",
      "          -7.0713e+00, -1.4530e+00,  9.9085e+00, -5.7652e-01],\n",
      "         [-5.3760e-07,  0.0000e+00,  0.0000e+00,  4.5871e+00,  7.3553e+00,\n",
      "          -1.3397e+00,  7.3772e+00,  6.2030e+00,  1.9828e+00],\n",
      "         [-3.3255e-06,  0.0000e+00,  0.0000e+00,  5.8863e+00, -1.8373e-01,\n",
      "           2.0511e+00, -1.9934e-01,  3.8243e+01,  0.0000e+00]],\n",
      "\n",
      "        [[-1.6118e-05,  0.0000e+00,  0.0000e+00,  9.3394e+02,  1.9170e+03,\n",
      "          -3.8365e+01,  1.9319e+03, -1.4073e+04,  7.0039e+03],\n",
      "         [-8.8157e-05,  0.0000e+00,  0.0000e+00,  6.3650e+03,  4.1069e+02,\n",
      "          -1.0579e+01,  3.9911e+02,  7.4502e+04,  1.3358e+03],\n",
      "         [-1.1272e-04,  0.0000e+00,  0.0000e+00,  7.3486e+03,  6.8570e+03,\n",
      "           7.0229e+00,  6.9008e+03,  5.7830e+01,  0.0000e+00],\n",
      "         [-1.8001e-07,  0.0000e+00,  0.0000e+00,  9.4275e-01, -1.4007e+00,\n",
      "          -7.0739e+00, -1.4092e+00,  1.0581e+01, -4.1607e-01],\n",
      "         [-9.9270e-08,  0.0000e+00,  0.0000e+00,  4.3292e+00,  7.3660e+00,\n",
      "          -1.3401e+00,  7.3887e+00,  2.7891e+00,  2.0139e+00],\n",
      "         [-6.8267e-07,  0.0000e+00,  0.0000e+00,  6.0633e+00, -2.6142e-02,\n",
      "           2.0517e+00, -4.0765e-02,  3.8337e+01,  0.0000e+00]],\n",
      "\n",
      "        [[-7.2283e-06,  0.0000e+00,  0.0000e+00,  9.3117e+02,  1.9211e+03,\n",
      "          -1.7857e+01,  1.9360e+03, -1.4104e+04,  7.0051e+03],\n",
      "         [-4.0268e-05,  0.0000e+00,  0.0000e+00,  6.3525e+03,  3.8933e+02,\n",
      "          -6.6944e+00,  3.7768e+02,  7.4494e+04,  1.3299e+03],\n",
      "         [-5.1027e-05,  0.0000e+00,  0.0000e+00,  7.3310e+03,  6.8571e+03,\n",
      "           1.0745e+00,  6.9009e+03, -5.3319e+01,  0.0000e+00],\n",
      "         [-8.2577e-08,  0.0000e+00,  0.0000e+00,  9.5655e-01, -1.3945e+00,\n",
      "          -7.0740e+00, -1.4030e+00,  1.0672e+01, -3.9371e-01],\n",
      "         [-4.4758e-08,  0.0000e+00,  0.0000e+00,  4.2926e+00,  7.3672e+00,\n",
      "          -1.3401e+00,  7.3900e+00,  2.3131e+00,  2.0181e+00],\n",
      "         [-3.1266e-07,  0.0000e+00,  0.0000e+00,  6.0870e+00, -4.1983e-03,\n",
      "           2.0517e+00, -1.8682e-02,  3.8340e+01,  0.0000e+00]]])\n"
     ]
    }
   ],
   "source": [
    "#now we can build the partial derivatives matrix, of shape Nx6x9 (N is the number of tsince elements, 6 is the number of elements in the state vector, and 9 is the number of elements in the TLE):\n",
    "partial_derivatives = torch.zeros((len(tsince),6,9))\n",
    "for k in range(len(tsince)):\n",
    "    for i in range(6):\n",
    "        tle_elements.grad=None\n",
    "        state_teme[k].flatten()[i].backward(retain_graph=True)\n",
    "        partial_derivatives[k,i,:] = tle_elements.grad\n",
    "#let's print them to screen:\n",
    "print(partial_derivatives)"
   ]
  },
  {
   "cell_type": "markdown",
   "metadata": {},
   "source": [
    "### Batch TLEs:\n",
    "\n",
    "As for the time derivatives, the API stays practically identical:"
   ]
  },
  {
   "cell_type": "code",
   "execution_count": 11,
   "metadata": {},
   "outputs": [],
   "source": [
    "#we load 6 TLEs:\n",
    "inp_file=\"\"\"0 PSLV DEB\n",
    "1 35350U 01049QJ  22068.76869562  .00000911  00000-0  24939-3 0  9998\n",
    "2 35350  98.6033  64.7516 0074531  99.8340 261.1278 14.48029442457561\n",
    "0 PSLV DEB *\n",
    "1 35351U 01049QK  22066.70636923  .00002156  00000-0  63479-3 0  9999\n",
    "2 35351  98.8179  29.5651 0005211  45.5944 314.5671 14.44732274457505\n",
    "0 SL-18 DEB\n",
    "1 35354U 93014BD  22068.76520028  .00021929  00000-0  20751-2 0  9995\n",
    "2 35354  75.7302 100.7819 0059525 350.7978   9.2117 14.92216400847487\n",
    "0 SL-18 DEB\n",
    "1 35359U 93014BJ  22068.55187275  .00025514  00000-0  24908-2 0  9992\n",
    "2 35359  75.7369 156.1582 0054843  50.5279 310.0745 14.91164684775759\n",
    "0 SL-18 DEB\n",
    "1 35360U 93014BK  22068.44021735  .00019061  00000-0  20292-2 0  9992\n",
    "2 35360  75.7343 127.2487 0071107  32.5913 327.9635 14.86997880798827\n",
    "0 METEOR 2-17 DEB\n",
    "1 35364U 88005Y   22067.81503681  .00001147  00000-0  84240-3 0  9995\n",
    "2 35364  82.5500  92.4124 0018834 303.2489 178.0638 13.94853833332534\"\"\"\n",
    "lines=inp_file.splitlines()\n",
    "#let's create the TLE objects\n",
    "tles=[]\n",
    "for i in range(0,len(lines),3):\n",
    "    data=[]\n",
    "    data.append(lines[i])\n",
    "    data.append(lines[i+1])\n",
    "    data.append(lines[i+2])\n",
    "    tles.append(dsgp4.tle.TLE(data))\n",
    "#we also create 9 random times, tracking the gradients:\n",
    "tsinces=torch.rand((6,))"
   ]
  },
  {
   "cell_type": "code",
   "execution_count": 12,
   "metadata": {},
   "outputs": [],
   "source": [
    "#let's now initialize the TLEs, activating the gradient tracking for the TLE parameters:\n",
    "tle_elements=dsgp4.initialize_tle(tles,with_grad=True)"
   ]
  },
  {
   "cell_type": "code",
   "execution_count": 13,
   "metadata": {},
   "outputs": [],
   "source": [
    "#let's now propagate the batch of TLEs:\n",
    "state_teme = dsgp4.propagate_batch(tles,tsinces)"
   ]
  },
  {
   "cell_type": "markdown",
   "metadata": {},
   "source": [
    "Finally, we can build the matrix that contains the partial of the SGP4 output w.r.t. the TLE parameters, for each TLE:"
   ]
  },
  {
   "cell_type": "code",
   "execution_count": 14,
   "metadata": {},
   "outputs": [
    {
     "name": "stdout",
     "output_type": "stream",
     "text": [
      "tensor([[[-4.7024e-04,  0.0000e+00,  0.0000e+00, -1.2286e+03,  7.9988e+02,\n",
      "           3.3369e+02,  7.7575e+02, -3.1876e+04, -6.4058e+03],\n",
      "         [-2.2363e-03,  0.0000e+00,  0.0000e+00,  2.3340e+03, -7.9925e+02,\n",
      "          -1.5947e+02, -8.4529e+02, -6.8224e+04,  3.0828e+03],\n",
      "         [ 3.4920e-03,  0.0000e+00,  0.0000e+00, -1.3916e+04,  7.0305e+03,\n",
      "          -5.3544e+01,  7.0161e+03,  1.7906e+03,  0.0000e+00],\n",
      "         [-1.5772e-06,  0.0000e+00,  0.0000e+00,  3.1322e+00, -3.2498e+00,\n",
      "           6.6740e+00, -3.2411e+00,  1.6212e+00,  8.8900e-01],\n",
      "         [-1.3577e-06,  0.0000e+00,  0.0000e+00,  6.7933e+00, -6.7337e+00,\n",
      "          -3.1490e+00, -6.7346e+00, -1.0225e+01,  8.1509e-01],\n",
      "         [-5.5853e-06,  0.0000e+00,  0.0000e+00, -4.2693e-01, -4.4474e-01,\n",
      "          -1.1140e+00, -3.8970e-01,  3.8645e+01,  0.0000e+00]],\n",
      "\n",
      "        [[-3.0412e-04,  0.0000e+00,  0.0000e+00, -4.9268e+03,  2.9541e+02,\n",
      "           1.3106e+02,  2.9342e+02, -6.5451e+04, -3.4748e+03],\n",
      "         [-3.2372e-04,  0.0000e+00,  0.0000e+00, -1.0373e+03, -1.0876e+03,\n",
      "          -2.3494e+02, -1.0897e+03, -3.7353e+04,  6.2099e+03],\n",
      "         [ 8.4753e-04,  0.0000e+00,  0.0000e+00, -9.8484e+03,  7.0334e+03,\n",
      "          -3.9317e+01,  7.0386e+03,  1.2649e+03,  0.0000e+00],\n",
      "         [-7.1538e-07,  0.0000e+00,  0.0000e+00,  4.7109e+00, -6.5345e+00,\n",
      "           3.6434e+00, -6.5369e+00, -2.2708e+00,  1.1429e+00],\n",
      "         [ 4.1246e-07,  0.0000e+00,  0.0000e+00,  1.6792e+00, -3.6559e+00,\n",
      "          -6.4254e+00, -3.6577e+00, -8.2071e+00,  3.0736e-01],\n",
      "         [-4.5782e-06,  0.0000e+00,  0.0000e+00,  5.5729e+00, -2.8624e-01,\n",
      "          -1.1432e+00, -2.8371e-01,  3.8921e+01,  0.0000e+00]],\n",
      "\n",
      "        [[-1.2351e-03,  0.0000e+00,  0.0000e+00,  6.6825e+02, -1.6048e+03,\n",
      "           3.6140e+02, -1.6254e+03,  1.2872e+04, -6.7810e+03],\n",
      "         [ 6.9955e-03,  0.0000e+00,  0.0000e+00, -6.9611e+03, -6.9967e+02,\n",
      "           7.2004e+01, -6.9911e+02, -6.9945e+04, -1.3865e+03],\n",
      "         [-3.7224e-04,  0.0000e+00,  0.0000e+00,  2.5368e+03,  6.7086e+03,\n",
      "           8.9678e+01,  6.7877e+03,  1.7343e+03,  0.0000e+00],\n",
      "         [ 6.6018e-06,  0.0000e+00,  0.0000e+00, -1.3890e+00,  1.5214e+00,\n",
      "           7.2283e+00,  1.5326e+00, -7.7337e+00,  7.5778e-01],\n",
      "         [ 2.4385e-06,  0.0000e+00,  0.0000e+00, -2.3602e+00, -7.4521e+00,\n",
      "           1.3789e+00, -7.4949e+00, -1.0031e+01, -1.7605e+00],\n",
      "         [-2.7257e-05,  0.0000e+00,  0.0000e+00,  7.1054e+00, -3.9580e-01,\n",
      "           1.8672e+00, -4.0754e-01,  3.7375e+01,  0.0000e+00]],\n",
      "\n",
      "        [[-9.5164e-04,  0.0000e+00,  0.0000e+00,  5.0543e+03, -6.0123e+02,\n",
      "           3.3871e+01, -5.7884e+02,  6.5070e+04, -2.7883e+03],\n",
      "         [-1.7954e-04,  0.0000e+00,  0.0000e+00,  6.4431e+02, -1.6079e+03,\n",
      "           8.4173e+01, -1.6311e+03, -2.8843e+04, -6.3658e+03],\n",
      "         [ 2.1579e-03,  0.0000e+00,  0.0000e+00, -1.0348e+04,  6.7366e+03,\n",
      "           1.9183e+01,  6.7845e+03,  3.1610e+02,  0.0000e+00],\n",
      "         [ 1.6366e-06,  0.0000e+00,  0.0000e+00, -5.7327e+00,  6.9606e+00,\n",
      "           2.9691e+00,  6.9829e+00, -1.8529e+00,  1.7656e+00],\n",
      "         [ 8.3539e-07,  0.0000e+00,  0.0000e+00,  1.1849e+00, -3.0402e+00,\n",
      "           6.7237e+00, -3.0585e+00, -9.6153e+00, -6.2636e-01],\n",
      "         [-5.5992e-06,  0.0000e+00,  0.0000e+00,  4.8556e+00, -1.2909e-01,\n",
      "           1.8639e+00, -9.8784e-02,  3.7671e+01,  0.0000e+00]],\n",
      "\n",
      "        [[-3.3420e-04,  0.0000e+00,  0.0000e+00,  5.0205e+03, -1.3441e+03,\n",
      "           1.8241e+01, -1.3443e+03,  4.3170e+04, -5.5254e+03],\n",
      "         [ 2.4464e-04,  0.0000e+00,  0.0000e+00, -3.5608e+03, -1.0626e+03,\n",
      "           1.7656e+01, -1.0966e+03, -5.6766e+04, -4.2092e+03],\n",
      "         [ 4.6359e-04,  0.0000e+00,  0.0000e+00, -7.2364e+03,  6.7330e+03,\n",
      "           2.5734e+00,  6.8146e+03, -1.9453e+01,  0.0000e+00],\n",
      "         [ 4.7430e-07,  0.0000e+00,  0.0000e+00, -3.7069e+00,  4.6159e+00,\n",
      "           5.8591e+00,  4.6384e+00, -7.2311e+00,  1.1838e+00],\n",
      "         [ 4.3889e-08,  0.0000e+00,  0.0000e+00,  2.2495e+00, -6.0476e+00,\n",
      "           4.4577e+00, -6.0889e+00, -6.3383e+00, -1.4510e+00],\n",
      "         [-1.5873e-06,  0.0000e+00,  0.0000e+00,  6.2547e+00, -5.4538e-02,\n",
      "           1.8673e+00, -2.6858e-02,  3.7855e+01,  0.0000e+00]],\n",
      "\n",
      "        [[-4.3813e-06,  0.0000e+00,  0.0000e+00, -6.0989e+02,  7.6713e+02,\n",
      "           6.1071e+03,  7.6423e+02,  7.1735e+03,  3.9427e+03],\n",
      "         [ 1.7087e-05,  0.0000e+00,  0.0000e+00, -4.1257e+03, -6.1475e+03,\n",
      "           2.5651e+02, -6.1245e+03,  4.1319e+04, -6.3391e+02],\n",
      "         [ 2.5883e-05,  0.0000e+00,  0.0000e+00,  5.9840e+03, -3.8802e+03,\n",
      "           7.9953e+02, -3.8654e+03, -6.8153e+04,  0.0000e+00],\n",
      "         [-1.0574e-07,  0.0000e+00,  0.0000e+00, -7.6491e-01,  6.4143e-01,\n",
      "          -3.9130e+00,  6.4020e-01,  4.4189e+00,  6.2088e+00],\n",
      "         [ 8.4333e-07,  0.0000e+00,  0.0000e+00,  6.2731e+00,  3.9830e+00,\n",
      "          -1.6350e-01,  3.9757e+00, -3.2812e+01,  7.7412e-01],\n",
      "         [ 5.3544e-07,  0.0000e+00,  0.0000e+00,  3.8275e+00, -6.1867e+00,\n",
      "          -5.1040e-01, -6.1750e+00, -2.3275e+01,  0.0000e+00]]])\n"
     ]
    }
   ],
   "source": [
    "#now we can build the partial derivatives matrix, of shape Nx6x9 (N is the number of tsince elements, 6 is the number of elements in the state vector, and 9 is the number of elements in the TLE):\n",
    "partial_derivatives = torch.zeros((len(tsinces),6,9))\n",
    "for k in range(len(tsinces)):\n",
    "    for i in range(6):\n",
    "        tle_elements[k].grad=None\n",
    "        state_teme[k].flatten()[i].backward(retain_graph=True)\n",
    "        partial_derivatives[k,i,:] = tle_elements[k].grad\n",
    "#let's print them to screen:\n",
    "print(partial_derivatives)"
   ]
  }
 ],
 "metadata": {
  "kernelspec": {
   "display_name": "dsgp4",
   "language": "python",
   "name": "python3"
  },
  "language_info": {
   "codemirror_mode": {
    "name": "ipython",
    "version": 3
   },
   "file_extension": ".py",
   "mimetype": "text/x-python",
   "name": "python",
   "nbconvert_exporter": "python",
   "pygments_lexer": "ipython3",
   "version": "3.10.12"
  },
  "orig_nbformat": 4
 },
 "nbformat": 4,
 "nbformat_minor": 2
}
