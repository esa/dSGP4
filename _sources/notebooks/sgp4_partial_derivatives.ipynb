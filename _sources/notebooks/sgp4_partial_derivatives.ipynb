{
 "cells": [
  {
   "cell_type": "markdown",
   "metadata": {},
   "source": [
    "# Partial Derivatives Computation via Autodiff\n",
    "\n",
    "In this notebook, we show how to use the autodiff feature of $\\partial\\textrm{SGP4}$. Due to the fact that it is written in `pytorch`, it automatically supports automatic differentiation via `torch.autograd`. \n",
    "\n",
    "In this notebook, we show how these partial derivatives can be constructed: for more advanced examples on how to use these gradients for practical applications, see the tutorials on `state_transition_matrix_computation`, `covariance_propagation`, `graident_based_optimization`, `orbit_determination`."
   ]
  },
  {
   "cell_type": "code",
   "execution_count": 1,
   "metadata": {},
   "outputs": [],
   "source": [
    "import dsgp4\n",
    "import torch"
   ]
  },
  {
   "cell_type": "markdown",
   "metadata": {},
   "source": [
    "We create a TLE object"
   ]
  },
  {
   "cell_type": "code",
   "execution_count": 2,
   "metadata": {},
   "outputs": [
    {
     "name": "stdout",
     "output_type": "stream",
     "text": [
      "TLE(\n",
      "0 COSMOS 2251 DEB\n",
      "1 34454U 93036SX  22068.91971155  .00000319  00000-0  11812-3 0  9996\n",
      "2 34454  74.0583 280.7094 0037596 327.9100  31.9764 14.35844873683320\n",
      ")\n"
     ]
    }
   ],
   "source": [
    "#as always, first, we create a TLE object:\n",
    "tle=[]\n",
    "tle.append('0 COSMOS 2251 DEB')\n",
    "tle.append('1 34454U 93036SX  22068.91971155  .00000319  00000-0  11812-3 0  9996')\n",
    "tle.append('2 34454  74.0583 280.7094 0037596 327.9100  31.9764 14.35844873683320')\n",
    "tle = dsgp4.tle.TLE(tle)\n",
    "print(tle)"
   ]
  },
  {
   "cell_type": "markdown",
   "metadata": {},
   "source": [
    "Now, as shown in the `tle_propagation` tutorial, we can propagate the TLE. However, instead of using the standard API, we require `torch.autograd` to record the operations w.r.t. the time."
   ]
  },
  {
   "cell_type": "markdown",
   "metadata": {},
   "source": [
    "## Partials with respect to time\n",
    "\n",
    "Let's compute the partials of the $\\partial \\textrm{SGP4}$ output w.r.t. the propagation times\n",
    "\n",
    "### Single TLEs\n",
    "\n",
    "Let's first see the case of single TLEs, propagated at various future times:"
   ]
  },
  {
   "cell_type": "code",
   "execution_count": 3,
   "metadata": {},
   "outputs": [
    {
     "name": "stdout",
     "output_type": "stream",
     "text": [
      "tensor([[[ 1.3801e+03, -6.9928e+03,  1.9835e+02],\n",
      "         [ 1.9807e+00,  5.8705e-01,  7.1998e+00]],\n",
      "\n",
      "        [[ 1.3596e+03, -6.9984e+03,  1.2413e+02],\n",
      "         [ 1.9962e+00,  5.0767e-01,  7.2017e+00]],\n",
      "\n",
      "        [[ 1.3946e+03, -6.9883e+03,  2.5111e+02],\n",
      "         [ 1.9695e+00,  6.4345e-01,  7.1980e+00]],\n",
      "\n",
      "        [[ 1.3492e+03, -7.0010e+03,  8.6688e+01],\n",
      "         [ 2.0040e+00,  4.6760e-01,  7.2023e+00]],\n",
      "\n",
      "        [[ 1.3540e+03, -6.9998e+03,  1.0394e+02],\n",
      "         [ 2.0004e+00,  4.8606e-01,  7.2020e+00]],\n",
      "\n",
      "        [[ 1.4152e+03, -6.9811e+03,  3.2657e+02],\n",
      "         [ 1.9533e+00,  7.2407e-01,  7.1947e+00]],\n",
      "\n",
      "        [[ 1.4245e+03, -6.9776e+03,  3.6089e+02],\n",
      "         [ 1.9458e+00,  7.6073e-01,  7.1929e+00]],\n",
      "\n",
      "        [[ 1.3690e+03, -6.9960e+03,  1.5791e+02],\n",
      "         [ 1.9892e+00,  5.4380e-01,  7.2009e+00]],\n",
      "\n",
      "        [[ 1.3816e+03, -6.9924e+03,  2.0371e+02],\n",
      "         [ 1.9795e+00,  5.9278e-01,  7.1997e+00]],\n",
      "\n",
      "        [[ 1.3448e+03, -7.0020e+03,  7.0776e+01],\n",
      "         [ 2.0073e+00,  4.5057e-01,  7.2025e+00]]],\n",
      "       grad_fn=<TransposeBackward0>)\n"
     ]
    }
   ],
   "source": [
    "#let's take a random tensor of 10 tsince elements, where we track the gradients:\n",
    "tsince=torch.rand((10,),requires_grad=True)\n",
    "#the state is then:\n",
    "state_teme = dsgp4.propagate(tle,\n",
    "                tsinces=tsince,\n",
    "                initialized=False)\n",
    "#now, we can see that the gradient is tracked:\n",
    "print(state_teme)"
   ]
  },
  {
   "cell_type": "markdown",
   "metadata": {},
   "source": [
    "Let's now retrieve the partial derivatives of the SGP4 output w.r.t. time.\n",
    "\n",
    "Since the state is position and velocity (i.e., $[x,y,z,v_x,v_y,v_z]$), these partials will be all the elements of type:\n",
    "\\begin{equation}\n",
    "\\dfrac{d \\pmb{x}}{d t}=[\\dfrac{dx}{dt}, \\dfrac{dy}{dt}, \\dfrac{dz}{dt}, \\dfrac{d^2x}{dt^2}, \\dfrac{d^2y}{dt^2}, \\dfrac{d^2z}{dt^2}]^T=[v_x, v_y, v_z, \\dfrac{dv_x}{dt}, \\dfrac{dv_y}{dt}, \\dfrac{dv_z}{dt}]^T\n",
    "\\end{equation}\n",
    "\n",
    "\n",
    "```{note}\n",
    "One thing to be careful about is that $\\partial\\textrm{SGP4}$, mirroring the original $\\textrm{SGP4}$, takes the time in minutes, and returns the state in km and km/s. Hence, the derivatives will have dimensions coherent to these, and to return to SI, conversions have to be made.\n",
    "```"
   ]
  },
  {
   "cell_type": "code",
   "execution_count": 4,
   "metadata": {},
   "outputs": [
    {
     "name": "stdout",
     "output_type": "stream",
     "text": [
      "tensor([[[ 1.1884e+02,  3.5223e+01,  4.3199e+02],\n",
      "         [-9.1163e-02,  4.6190e-01, -1.3136e-02]],\n",
      "\n",
      "        [[ 1.1977e+02,  3.0460e+01,  4.3210e+02],\n",
      "         [-8.9812e-02,  4.6229e-01, -8.2214e-03]],\n",
      "\n",
      "        [[ 1.1817e+02,  3.8607e+01,  4.3188e+02],\n",
      "         [-9.2116e-02,  4.6159e-01, -1.6630e-02]],\n",
      "\n",
      "        [[ 1.2024e+02,  2.8056e+01,  4.3214e+02],\n",
      "         [-8.9127e-02,  4.6247e-01, -5.7415e-03]],\n",
      "\n",
      "        [[ 1.2003e+02,  2.9164e+01,  4.3212e+02],\n",
      "         [-8.9443e-02,  4.6239e-01, -6.8839e-03]],\n",
      "\n",
      "        [[ 1.1720e+02,  4.3444e+01,  4.3168e+02],\n",
      "         [-9.3471e-02,  4.6110e-01, -2.1626e-02]],\n",
      "\n",
      "        [[ 1.1675e+02,  4.5644e+01,  4.3157e+02],\n",
      "         [-9.4083e-02,  4.6086e-01, -2.3898e-02]],\n",
      "\n",
      "        [[ 1.1935e+02,  3.2628e+01,  4.3206e+02],\n",
      "         [-9.0428e-02,  4.6212e-01, -1.0458e-02]],\n",
      "\n",
      "        [[ 1.1877e+02,  3.5567e+01,  4.3198e+02],\n",
      "         [-9.1260e-02,  4.6187e-01, -1.3491e-02]],\n",
      "\n",
      "        [[ 1.2044e+02,  2.7034e+01,  4.3215e+02],\n",
      "         [-8.8835e-02,  4.6254e-01, -4.6878e-03]]])\n"
     ]
    }
   ],
   "source": [
    "partial_derivatives = torch.zeros_like(state_teme)\n",
    "for i in [0,1]:\n",
    "    for j in [0,1,2]:\n",
    "        tsince.grad=None\n",
    "        state_teme[:,i,j].backward(torch.ones_like(tsince),retain_graph=True)\n",
    "        partial_derivatives[:,i,j] = tsince.grad\n",
    "\n",
    "#let's print to screen the partials:\n",
    "print(partial_derivatives)"
   ]
  },
  {
   "cell_type": "markdown",
   "metadata": {},
   "source": [
    "### Batch TLEs\n",
    "\n",
    "Let's now see how it works for batch TLEs. The API is basically identical:"
   ]
  },
  {
   "cell_type": "code",
   "execution_count": 5,
   "metadata": {},
   "outputs": [],
   "source": [
    "#we load 6 TLEs:\n",
    "inp_file=\"\"\"0 PSLV DEB\n",
    "1 35350U 01049QJ  22068.76869562  .00000911  00000-0  24939-3 0  9998\n",
    "2 35350  98.6033  64.7516 0074531  99.8340 261.1278 14.48029442457561\n",
    "0 PSLV DEB *\n",
    "1 35351U 01049QK  22066.70636923  .00002156  00000-0  63479-3 0  9999\n",
    "2 35351  98.8179  29.5651 0005211  45.5944 314.5671 14.44732274457505\n",
    "0 SL-18 DEB\n",
    "1 35354U 93014BD  22068.76520028  .00021929  00000-0  20751-2 0  9995\n",
    "2 35354  75.7302 100.7819 0059525 350.7978   9.2117 14.92216400847487\n",
    "0 SL-18 DEB\n",
    "1 35359U 93014BJ  22068.55187275  .00025514  00000-0  24908-2 0  9992\n",
    "2 35359  75.7369 156.1582 0054843  50.5279 310.0745 14.91164684775759\n",
    "0 SL-18 DEB\n",
    "1 35360U 93014BK  22068.44021735  .00019061  00000-0  20292-2 0  9992\n",
    "2 35360  75.7343 127.2487 0071107  32.5913 327.9635 14.86997880798827\n",
    "0 METEOR 2-17 DEB\n",
    "1 35364U 88005Y   22067.81503681  .00001147  00000-0  84240-3 0  9995\n",
    "2 35364  82.5500  92.4124 0018834 303.2489 178.0638 13.94853833332534\"\"\"\n",
    "lines=inp_file.splitlines()\n",
    "#let's create the TLE objects\n",
    "tles=[]\n",
    "for i in range(0,len(lines),3):\n",
    "    data=[]\n",
    "    data.append(lines[i])\n",
    "    data.append(lines[i+1])\n",
    "    data.append(lines[i+2])\n",
    "    tles.append(dsgp4.tle.TLE(data))\n",
    "#we also create 9 random times, tracking the gradients:\n",
    "tsinces=torch.rand((6,),requires_grad=True)"
   ]
  },
  {
   "cell_type": "code",
   "execution_count": 8,
   "metadata": {},
   "outputs": [],
   "source": [
    "#let's initialize the TLEs:\n",
    "_,tle_batch=dsgp4.initialize_tle(tles)\n",
    "#let's propagate the batch:\n",
    "state_teme = dsgp4.propagate_batch(tle_batch,\n",
    "                tsinces=tsinces)"
   ]
  },
  {
   "cell_type": "markdown",
   "metadata": {},
   "source": [
    "Now, let's retrieve the partial of each TLE, at each propagated time, and store them into a Nx2x3 matrix:"
   ]
  },
  {
   "cell_type": "code",
   "execution_count": 9,
   "metadata": {},
   "outputs": [
    {
     "name": "stdout",
     "output_type": "stream",
     "text": [
      "tensor([[[ 5.7015e+01, -3.6352e+01,  4.4362e+02],\n",
      "         [-2.0210e-01, -4.2678e-01, -4.9904e-03]],\n",
      "\n",
      "        [[ 1.2403e+01, -7.1946e+01,  4.4313e+02],\n",
      "         [-4.1210e-01, -2.2931e-01, -2.5077e-02]],\n",
      "\n",
      "        [[-1.0693e+02, -3.9097e+01,  4.4204e+02],\n",
      "         [ 9.8062e-02, -4.8840e-01, -1.9590e-02]],\n",
      "\n",
      "        [[-2.3161e+01, -1.1218e+02,  4.4075e+02],\n",
      "         [ 4.5547e-01, -1.9488e-01, -2.3106e-02]],\n",
      "\n",
      "        [[-7.2915e+01, -8.9360e+01,  4.4129e+02],\n",
      "         [ 3.0545e-01, -3.9066e-01, -2.6374e-02]],\n",
      "\n",
      "        [[ 4.6004e+01, -3.7524e+02, -2.3086e+02],\n",
      "         [ 3.9414e-02,  2.3749e-01, -3.7830e-01]]])\n"
     ]
    }
   ],
   "source": [
    "#let's retrieve the partials w.r.t. time:\n",
    "partial_derivatives = torch.zeros_like(state_teme)\n",
    "for i in [0,1]:\n",
    "    for j in [0,1,2]:\n",
    "        tsinces.grad=None\n",
    "        state_teme[:,i,j].backward(torch.ones_like(tsinces),retain_graph=True)\n",
    "        partial_derivatives[:,i,j] = tsinces.grad\n",
    "\n",
    "#let's print to screen the partials:\n",
    "print(partial_derivatives)"
   ]
  },
  {
   "cell_type": "markdown",
   "metadata": {},
   "source": [
    "## Partials with respect to TLE parameters\n",
    "\n",
    "Let's now tackle the case in which we are interested in the partials of the $\\partial\\textrm{SGP4}$ output w.r.t. the TLE parameters.\n",
    "\n",
    "### Single TLEs\n",
    "\n",
    "We first tackle the case of single TLE, propagated at multiple times:"
   ]
  },
  {
   "cell_type": "markdown",
   "metadata": {},
   "source": [
    "In this case, we want the Jacobian of the output state, w.r.t. the following TLE parameters $\\textrm{TLE}=[n,e,i,\\Omega,\\omega,M,B^*,\\dot{n},\\ddot{n}]$, where:\n",
    "\n",
    "* $n$ is the mean motion (also known as `no_kozai` in the original implementation) [rad/minute]; \n",
    "* $e$ is the eccentricity [-]; \n",
    "* $i$ is the inclination [rad]; \n",
    "* $\\Omega$ is the right ascension of the ascending node [rad]; \n",
    "* $\\omega$ is the argument of perigee [rad];\n",
    "* $M$ is the mean anomaly [rad];\n",
    "* $B^*$ is the Bstar parameter [1/earth radii]\n",
    "* $\\dot{n}$ mean motion first derivative [radians/$\\textrm{minute}^2$]\n",
    "* $\\ddot{n}$ mean motion second derivative [radians/$\\textrm{minute}^2$]\n",
    "\n",
    "\\begin{equation}\n",
    "\\dfrac{\\partial \\pmb{x}}{\\partial \\textrm{TLE}}=\n",
    "\\begin{bmatrix}\n",
    "\\frac{\\partial x}{\\partial B^*} & \\frac{\\partial x}{\\partial \\dot{n}} & \\frac{\\partial x}{\\partial \\ddot{n}} & \\frac{\\partial x}{\\partial e} & \\frac{\\partial x}{\\partial \\omega} & \\frac{\\partial x}{\\partial i} & \\frac{\\partial x}{\\partial M} & \\frac{\\partial x}{\\partial n} & \\frac{\\partial x}{\\partial \\Omega} \\\\\n",
    "\\\\\n",
    "\\frac{\\partial y}{\\partial B^*} & \\frac{\\partial y}{\\partial \\dot{n}} & \\frac{\\partial y}{\\partial \\ddot{n}} & \\frac{\\partial y}{\\partial e} & \\frac{\\partial y}{\\partial \\omega} & \\frac{\\partial y}{\\partial i} & \\frac{\\partial y}{\\partial M} & \\frac{\\partial y}{\\partial n} & \\frac{\\partial y}{\\partial \\Omega} \\\\\n",
    "\\\\\n",
    "\\frac{\\partial z}{\\partial B^*} & \\frac{\\partial z}{\\partial \\dot{n}} & \\frac{\\partial z}{\\partial \\ddot{n}} & \\frac{\\partial z}{\\partial e} & \\frac{\\partial z}{\\partial \\omega} & \\frac{\\partial z}{\\partial i} & \\frac{\\partial z}{\\partial M} & \\frac{\\partial z}{\\partial n} & \\frac{\\partial z}{\\partial \\Omega} \\\\\n",
    "\\\\\n",
    "\\frac{\\partial v_x}{\\partial B^*} & \\frac{\\partial v_x}{\\partial \\dot{n}} & \\frac{\\partial v_x}{\\partial \\ddot{n}} & \\frac{\\partial v_x}{\\partial e} & \\frac{\\partial v_x}{\\partial \\omega} & \\frac{\\partial v_x}{\\partial i} & \\frac{\\partial v_x}{\\partial M} & \\frac{\\partial v_x}{\\partial n} & \\frac{\\partial v_x}{\\partial \\Omega} \\\\\n",
    "\\\\\n",
    "\\frac{\\partial v_y}{\\partial B^*} & \\frac{\\partial v_y}{\\partial \\dot{n}} & \\frac{\\partial v_y}{\\partial \\ddot{n}} & \\frac{\\partial v_y}{\\partial e} & \\frac{\\partial v_y}{\\partial \\omega} & \\frac{\\partial v_y}{\\partial i} & \\frac{\\partial v_y}{\\partial M} & \\frac{\\partial v_y}{\\partial n} & \\frac{\\partial v_y}{\\partial \\Omega} \\\\\n",
    "\\\\\n",
    "\\frac{\\partial v_z}{\\partial B^*} & \\frac{\\partial v_z}{\\partial \\dot{n}} & \\frac{\\partial v_z}{\\partial \\ddot{n}} & \\frac{\\partial v_z}{\\partial e} & \\frac{\\partial v_z}{\\partial \\omega} & \\frac{\\partial v_z}{\\partial i} & \\frac{\\partial v_z}{\\partial M} & \\frac{\\partial v_z}{\\partial n} & \\frac{\\partial v_z}{\\partial \\Omega} \\\\\n",
    "\\\\\n",
    "\\frac{\\partial \\dot{n}}{\\partial B^*} & \\frac{\\partial \\dot{n}}{\\partial \\dot{n}} & \\frac{\\partial \\dot{n}}{\\partial \\ddot{n}} & \\frac{\\partial \\dot{n}}{\\partial e} & \\frac{\\partial \\dot{n}}{\\partial \\omega} & \\frac{\\partial \\dot{n}}{\\partial i} & \\frac{\\partial \\dot{n}}{\\partial M} & \\frac{\\partial \\dot{n}}{\\partial n} & \\frac{\\partial \\dot{n}}{\\partial \\Omega} \\\\\n",
    "\\\\\n",
    "\\frac{\\partial \\ddot{n}}{\\partial B^*} & \\frac{\\partial \\ddot{n}}{\\partial \\dot{n}} & \\frac{\\partial \\ddot{n}}{\\partial \\ddot{n}} & \\frac{\\partial \\ddot{n}}{\\partial e} & \\frac{\\partial \\ddot{n}}{\\partial \\omega} & \\frac{\\partial \\ddot{n}}{\\partial i} & \\frac{\\partial \\ddot{n}}{\\partial M} & \\frac{\\partial \\ddot{n}}{\\partial n} & \\frac{\\partial \\ddot{n}}{\\partial \\Omega}\n",
    "\\end{bmatrix}\n",
    "\\end{equation}"
   ]
  },
  {
   "cell_type": "code",
   "execution_count": 10,
   "metadata": {},
   "outputs": [
    {
     "name": "stdout",
     "output_type": "stream",
     "text": [
      "TLE(\n",
      "0 COSMOS 2251 DEB\n",
      "1 34454U 93036SX  22068.91971155  .00000319  00000-0  11812-3 0  9996\n",
      "2 34454  74.0583 280.7094 0037596 327.9100  31.9764 14.35844873683320\n",
      ")\n"
     ]
    }
   ],
   "source": [
    "#as always, first, we create a TLE object:\n",
    "tle=[]\n",
    "tle.append('0 COSMOS 2251 DEB')\n",
    "tle.append('1 34454U 93036SX  22068.91971155  .00000319  00000-0  11812-3 0  9996')\n",
    "tle.append('2 34454  74.0583 280.7094 0037596 327.9100  31.9764 14.35844873683320')\n",
    "tle = dsgp4.tle.TLE(tle)\n",
    "print(tle)\n",
    "tle_elements=dsgp4.initialize_tle(tle,with_grad=True)"
   ]
  },
  {
   "cell_type": "code",
   "execution_count": 11,
   "metadata": {},
   "outputs": [],
   "source": [
    "#let's select 10 random times:\n",
    "tsince=torch.rand((10,))\n",
    "#and let's propagate:\n",
    "state_teme=dsgp4.propagate(tle,tsince)"
   ]
  },
  {
   "cell_type": "code",
   "execution_count": 12,
   "metadata": {},
   "outputs": [
    {
     "name": "stdout",
     "output_type": "stream",
     "text": [
      "tensor([[[-6.3133e-05,  0.0000e+00,  0.0000e+00,  9.4655e+02,  1.8975e+03,\n",
      "          -1.3577e+02,  1.9123e+03, -1.3931e+04,  6.9975e+03],\n",
      "         [-3.1846e-04,  0.0000e+00,  0.0000e+00,  6.4258e+03,  5.1208e+02,\n",
      "          -2.9033e+01,  5.0081e+02,  7.4555e+04,  1.3634e+03],\n",
      "         [-4.2398e-04,  0.0000e+00,  0.0000e+00,  7.4314e+03,  6.8559e+03,\n",
      "           3.5277e+01,  6.8995e+03,  5.8550e+02,  0.0000e+00],\n",
      "         [-6.3672e-07,  0.0000e+00,  0.0000e+00,  8.7674e-01, -1.4296e+00,\n",
      "          -7.0726e+00, -1.4383e+00,  1.0140e+01, -5.2221e-01],\n",
      "         [-3.8001e-07,  0.0000e+00,  0.0000e+00,  4.5007e+00,  7.3593e+00,\n",
      "          -1.3399e+00,  7.3815e+00,  5.0480e+00,  1.9934e+00],\n",
      "         [-2.4335e-06,  0.0000e+00,  0.0000e+00,  5.9475e+00, -1.3037e-01,\n",
      "           2.0514e+00, -1.4565e-01,  3.8289e+01,  0.0000e+00]],\n",
      "\n",
      "        [[-1.2694e-04,  0.0000e+00,  0.0000e+00,  9.5994e+02,  1.8746e+03,\n",
      "          -2.4796e+02,  1.8892e+03, -1.3774e+04,  6.9882e+03],\n",
      "         [-5.9015e-04,  0.0000e+00,  0.0000e+00,  6.4987e+03,  6.2877e+02,\n",
      "          -5.0289e+01,  6.1785e+02,  7.4656e+04,  1.3948e+03],\n",
      "         [-8.1975e-04,  0.0000e+00,  0.0000e+00,  7.5247e+03,  6.8529e+03,\n",
      "           6.7820e+01,  6.8962e+03,  1.1921e+03,  0.0000e+00],\n",
      "         [-1.1502e-06,  0.0000e+00,  0.0000e+00,  7.9978e-01, -1.4626e+00,\n",
      "          -7.0692e+00, -1.4714e+00,  9.6132e+00, -6.4435e-01],\n",
      "         [-7.4752e-07,  0.0000e+00,  0.0000e+00,  4.6936e+00,  7.3497e+00,\n",
      "          -1.3394e+00,  7.3713e+00,  7.6446e+00,  1.9693e+00],\n",
      "         [-4.4356e-06,  0.0000e+00,  0.0000e+00,  5.8080e+00, -2.5042e-01,\n",
      "           2.0505e+00, -2.6643e-01,  3.8165e+01,  0.0000e+00]],\n",
      "\n",
      "        [[-2.0085e-05,  0.0000e+00,  0.0000e+00,  9.3513e+02,  1.9152e+03,\n",
      "          -4.7261e+01,  1.9302e+03, -1.4060e+04,  7.0034e+03],\n",
      "         [-1.0899e-04,  0.0000e+00,  0.0000e+00,  6.3704e+03,  4.1995e+02,\n",
      "          -1.2265e+01,  4.0840e+02,  7.4505e+04,  1.3383e+03],\n",
      "         [-1.3989e-04,  0.0000e+00,  0.0000e+00,  7.3562e+03,  6.8570e+03,\n",
      "           9.6033e+00,  6.9007e+03,  1.0604e+02,  0.0000e+00],\n",
      "         [-2.2213e-07,  0.0000e+00,  0.0000e+00,  9.3676e-01, -1.4033e+00,\n",
      "          -7.0738e+00, -1.4119e+00,  1.0542e+01, -4.2576e-01],\n",
      "         [-1.2342e-07,  0.0000e+00,  0.0000e+00,  4.3450e+00,  7.3655e+00,\n",
      "          -1.3401e+00,  7.3881e+00,  2.9956e+00,  2.0120e+00],\n",
      "         [-8.4303e-07,  0.0000e+00,  0.0000e+00,  6.0529e+00, -3.5661e-02,\n",
      "           2.0517e+00, -5.0344e-02,  3.8335e+01,  0.0000e+00]],\n",
      "\n",
      "        [[-1.7044e-04,  0.0000e+00,  0.0000e+00,  9.6745e+02,  1.8604e+03,\n",
      "          -3.1581e+02,  1.8750e+03, -1.3683e+04,  6.9817e+03],\n",
      "         [-7.5819e-04,  0.0000e+00,  0.0000e+00,  6.5444e+03,  6.9929e+02,\n",
      "          -6.3144e+01,  6.8857e+02,  7.4737e+04,  1.4137e+03],\n",
      "         [-1.0784e-03,  0.0000e+00,  0.0000e+00,  7.5801e+03,  6.8502e+03,\n",
      "           8.7500e+01,  6.8933e+03,  1.5580e+03,  0.0000e+00],\n",
      "         [-1.4541e-06,  0.0000e+00,  0.0000e+00,  7.5279e-01, -1.4824e+00,\n",
      "          -7.0662e+00, -1.4912e+00,  9.2845e+00, -7.1817e-01],\n",
      "         [-9.9233e-07,  0.0000e+00,  0.0000e+00,  4.8078e+00,  7.3429e+00,\n",
      "          -1.3389e+00,  7.3641e+00,  9.2118e+00,  1.9545e+00],\n",
      "         [-5.6382e-06,  0.0000e+00,  0.0000e+00,  5.7204e+00, -3.2301e-01,\n",
      "           2.0497e+00, -3.3947e-01,  3.8053e+01,  0.0000e+00]],\n",
      "\n",
      "        [[-5.0739e-05,  0.0000e+00,  0.0000e+00,  9.4351e+02,  1.9024e+03,\n",
      "          -1.1161e+02,  1.9172e+03, -1.3965e+04,  6.9992e+03],\n",
      "         [-2.6088e-04,  0.0000e+00,  0.0000e+00,  6.4105e+03,  4.8694e+02,\n",
      "          -2.4456e+01,  4.7559e+02,  7.4539e+04,  1.3566e+03],\n",
      "         [-3.4397e-04,  0.0000e+00,  0.0000e+00,  7.4110e+03,  6.8563e+03,\n",
      "           2.8269e+01,  6.9000e+03,  4.5469e+02,  0.0000e+00],\n",
      "         [-5.2438e-07,  0.0000e+00,  0.0000e+00,  8.9318e-01, -1.4225e+00,\n",
      "          -7.0730e+00, -1.4311e+00,  1.0251e+01, -4.9589e-01],\n",
      "         [-3.0704e-07,  0.0000e+00,  0.0000e+00,  4.4585e+00,  7.3611e+00,\n",
      "          -1.3400e+00,  7.3834e+00,  4.4881e+00,  1.9985e+00],\n",
      "         [-2.0003e-06,  0.0000e+00,  0.0000e+00,  5.9767e+00, -1.0452e-01,\n",
      "           2.0515e+00, -1.1964e-01,  3.8306e+01,  0.0000e+00]],\n",
      "\n",
      "        [[-2.4430e-04,  0.0000e+00,  0.0000e+00,  9.7810e+02,  1.8384e+03,\n",
      "          -4.1995e+02,  1.8528e+03, -1.3550e+04,  6.9702e+03],\n",
      "         [-1.0222e-03,  0.0000e+00,  0.0000e+00,  6.6166e+03,  8.0747e+02,\n",
      "          -8.2878e+01,  7.9706e+02,  7.4891e+04,  1.4423e+03],\n",
      "         [-1.5035e-03,  0.0000e+00,  0.0000e+00,  7.6635e+03,  6.8446e+03,\n",
      "           1.1771e+02,  6.8875e+03,  2.1174e+03,  0.0000e+00],\n",
      "         [-1.9108e-06,  0.0000e+00,  0.0000e+00,  6.8001e-01, -1.5125e+00,\n",
      "          -7.0602e+00, -1.5214e+00,  8.7656e+00, -8.3139e-01],\n",
      "         [-1.4007e-06,  0.0000e+00,  0.0000e+00,  4.9793e+00,  7.3309e+00,\n",
      "          -1.3379e+00,  7.3516e+00,  1.1612e+01,  1.9313e+00],\n",
      "         [-7.4715e-06,  0.0000e+00,  0.0000e+00,  5.5814e+00, -4.3445e-01,\n",
      "           2.0480e+00, -4.5157e-01,  3.7828e+01,  0.0000e+00]],\n",
      "\n",
      "        [[-1.0495e-04,  0.0000e+00,  0.0000e+00,  9.5570e+02,  1.8821e+03,\n",
      "          -2.1129e+02,  1.8969e+03, -1.3824e+04,  6.9914e+03],\n",
      "         [-5.0052e-04,  0.0000e+00,  0.0000e+00,  6.4746e+03,  5.9064e+02,\n",
      "          -4.3340e+01,  5.7960e+02,  7.4619e+04,  1.3846e+03],\n",
      "         [-6.8599e-04,  0.0000e+00,  0.0000e+00,  7.4945e+03,  6.8541e+03,\n",
      "           5.7181e+01,  6.8975e+03,  9.9401e+02,  0.0000e+00],\n",
      "         [-9.8384e-07,  0.0000e+00,  0.0000e+00,  8.2504e-01, -1.4519e+00,\n",
      "          -7.0705e+00, -1.4606e+00,  9.7878e+00, -6.0444e-01],\n",
      "         [-6.2223e-07,  0.0000e+00,  0.0000e+00,  4.6311e+00,  7.3531e+00,\n",
      "          -1.3396e+00,  7.3749e+00,  6.7965e+00,  1.9772e+00],\n",
      "         [-3.7829e-06,  0.0000e+00,  0.0000e+00,  5.8543e+00, -2.1117e-01,\n",
      "           2.0509e+00, -2.2695e-01,  3.8213e+01,  0.0000e+00]],\n",
      "\n",
      "        [[-1.3075e-04,  0.0000e+00,  0.0000e+00,  9.6065e+02,  1.8733e+03,\n",
      "          -2.5414e+02,  1.8880e+03, -1.3765e+04,  6.9876e+03],\n",
      "         [-6.0534e-04,  0.0000e+00,  0.0000e+00,  6.5029e+03,  6.3520e+02,\n",
      "          -5.1460e+01,  6.2429e+02,  7.4663e+04,  1.3965e+03],\n",
      "         [-8.4270e-04,  0.0000e+00,  0.0000e+00,  7.5298e+03,  6.8527e+03,\n",
      "           6.9612e+01,  6.8960e+03,  1.2255e+03,  0.0000e+00],\n",
      "         [-1.1781e-06,  0.0000e+00,  0.0000e+00,  7.9551e-01, -1.4644e+00,\n",
      "          -7.0689e+00, -1.4732e+00,  9.5836e+00, -6.5108e-01],\n",
      "         [-7.6912e-07,  0.0000e+00,  0.0000e+00,  4.7041e+00,  7.3491e+00,\n",
      "          -1.3394e+00,  7.3707e+00,  7.7875e+00,  1.9680e+00],\n",
      "         [-4.5454e-06,  0.0000e+00,  0.0000e+00,  5.8001e+00, -2.5703e-01,\n",
      "           2.0504e+00, -2.7309e-01,  3.8155e+01,  0.0000e+00]],\n",
      "\n",
      "        [[-1.4665e-04,  0.0000e+00,  0.0000e+00,  9.6348e+02,  1.8680e+03,\n",
      "          -2.7943e+02,  1.8827e+03, -1.3731e+04,  6.9853e+03],\n",
      "         [-6.6771e-04,  0.0000e+00,  0.0000e+00,  6.5198e+03,  6.6148e+02,\n",
      "          -5.6250e+01,  6.5065e+02,  7.4692e+04,  1.4036e+03],\n",
      "         [-9.3788e-04,  0.0000e+00,  0.0000e+00,  7.5505e+03,  6.8517e+03,\n",
      "           7.6947e+01,  6.8950e+03,  1.3619e+03,  0.0000e+00],\n",
      "         [-1.2918e-06,  0.0000e+00,  0.0000e+00,  7.7803e-01, -1.4718e+00,\n",
      "          -7.0679e+00, -1.4806e+00,  9.4617e+00, -6.7859e-01],\n",
      "         [-8.5896e-07,  0.0000e+00,  0.0000e+00,  4.7468e+00,  7.3466e+00,\n",
      "          -1.3392e+00,  7.3681e+00,  8.3717e+00,  1.9624e+00],\n",
      "         [-4.9941e-06,  0.0000e+00,  0.0000e+00,  5.7677e+00, -2.8408e-01,\n",
      "           2.0502e+00, -3.0031e-01,  3.8116e+01,  0.0000e+00]],\n",
      "\n",
      "        [[-9.8138e-05,  0.0000e+00,  0.0000e+00,  9.5431e+02,  1.8845e+03,\n",
      "          -1.9953e+02,  1.8993e+03, -1.3840e+04,  6.9924e+03],\n",
      "         [-4.7196e-04,  0.0000e+00,  0.0000e+00,  6.4669e+03,  5.7841e+02,\n",
      "          -4.1113e+01,  5.6733e+02,  7.4608e+04,  1.3813e+03],\n",
      "         [-6.4401e-04,  0.0000e+00,  0.0000e+00,  7.4847e+03,  6.8545e+03,\n",
      "           5.3771e+01,  6.8979e+03,  9.3046e+02,  0.0000e+00],\n",
      "         [-9.3020e-07,  0.0000e+00,  0.0000e+00,  8.3312e-01, -1.4484e+00,\n",
      "          -7.0709e+00, -1.4571e+00,  9.8433e+00, -5.9164e-01],\n",
      "         [-5.8312e-07,  0.0000e+00,  0.0000e+00,  4.6109e+00,  7.3541e+00,\n",
      "          -1.3397e+00,  7.3760e+00,  6.5244e+00,  1.9798e+00],\n",
      "         [-3.5733e-06,  0.0000e+00,  0.0000e+00,  5.8690e+00, -1.9859e-01,\n",
      "           2.0510e+00, -2.1429e-01,  3.8227e+01,  0.0000e+00]]])\n"
     ]
    }
   ],
   "source": [
    "#now we can build the partial derivatives matrix, of shape Nx6x9 (N is the number of tsince elements, 6 is the number of elements in the state vector, and 9 is the number of elements in the TLE):\n",
    "partial_derivatives = torch.zeros((len(tsince),6,9))\n",
    "for k in range(len(tsince)):\n",
    "    for i in range(6):\n",
    "        tle_elements.grad=None\n",
    "        state_teme[k].flatten()[i].backward(retain_graph=True)\n",
    "        partial_derivatives[k,i,:] = tle_elements.grad\n",
    "#let's print them to screen:\n",
    "print(partial_derivatives)"
   ]
  },
  {
   "cell_type": "markdown",
   "metadata": {},
   "source": [
    "### Batch TLEs:\n",
    "\n",
    "As for the time derivatives, the API stays practically identical:"
   ]
  },
  {
   "cell_type": "code",
   "execution_count": 13,
   "metadata": {},
   "outputs": [],
   "source": [
    "#we load 6 TLEs:\n",
    "inp_file=\"\"\"0 PSLV DEB\n",
    "1 35350U 01049QJ  22068.76869562  .00000911  00000-0  24939-3 0  9998\n",
    "2 35350  98.6033  64.7516 0074531  99.8340 261.1278 14.48029442457561\n",
    "0 PSLV DEB *\n",
    "1 35351U 01049QK  22066.70636923  .00002156  00000-0  63479-3 0  9999\n",
    "2 35351  98.8179  29.5651 0005211  45.5944 314.5671 14.44732274457505\n",
    "0 SL-18 DEB\n",
    "1 35354U 93014BD  22068.76520028  .00021929  00000-0  20751-2 0  9995\n",
    "2 35354  75.7302 100.7819 0059525 350.7978   9.2117 14.92216400847487\n",
    "0 SL-18 DEB\n",
    "1 35359U 93014BJ  22068.55187275  .00025514  00000-0  24908-2 0  9992\n",
    "2 35359  75.7369 156.1582 0054843  50.5279 310.0745 14.91164684775759\n",
    "0 SL-18 DEB\n",
    "1 35360U 93014BK  22068.44021735  .00019061  00000-0  20292-2 0  9992\n",
    "2 35360  75.7343 127.2487 0071107  32.5913 327.9635 14.86997880798827\n",
    "0 METEOR 2-17 DEB\n",
    "1 35364U 88005Y   22067.81503681  .00001147  00000-0  84240-3 0  9995\n",
    "2 35364  82.5500  92.4124 0018834 303.2489 178.0638 13.94853833332534\"\"\"\n",
    "lines=inp_file.splitlines()\n",
    "#let's create the TLE objects\n",
    "tles=[]\n",
    "for i in range(0,len(lines),3):\n",
    "    data=[]\n",
    "    data.append(lines[i])\n",
    "    data.append(lines[i+1])\n",
    "    data.append(lines[i+2])\n",
    "    tles.append(dsgp4.tle.TLE(data))\n",
    "#we also create 6 random times, tracking the gradients:\n",
    "tsinces=torch.rand((6,))"
   ]
  },
  {
   "cell_type": "code",
   "execution_count": 15,
   "metadata": {},
   "outputs": [],
   "source": [
    "#let's now initialize the TLEs, activating the gradient tracking for the TLE parameters:\n",
    "tle_elements,tle_batch=dsgp4.initialize_tle(tles,with_grad=True)\n"
   ]
  },
  {
   "cell_type": "code",
   "execution_count": 17,
   "metadata": {},
   "outputs": [],
   "source": [
    "#let's now propagate the batch of TLEs:\n",
    "state_teme = dsgp4.propagate_batch(tle_batch,tsinces)"
   ]
  },
  {
   "cell_type": "markdown",
   "metadata": {},
   "source": [
    "Finally, we can build the matrix that contains the partial of the SGP4 output w.r.t. the TLE parameters, for each TLE:"
   ]
  },
  {
   "cell_type": "code",
   "execution_count": 18,
   "metadata": {},
   "outputs": [
    {
     "name": "stdout",
     "output_type": "stream",
     "text": [
      "tensor([[[-4.5677e-04,  0.0000e+00,  0.0000e+00, -1.2328e+03,  8.0426e+02,\n",
      "           3.2469e+02,  7.8012e+02, -3.1878e+04, -6.4070e+03],\n",
      "         [-2.1749e-03,  0.0000e+00,  0.0000e+00,  2.3248e+03, -7.9018e+02,\n",
      "          -1.5523e+02, -8.3622e+02, -6.8210e+04,  3.0817e+03],\n",
      "         [ 3.3992e-03,  0.0000e+00,  0.0000e+00, -1.3915e+04,  7.0311e+03,\n",
      "          -5.2043e+01,  7.0166e+03,  1.7385e+03,  0.0000e+00],\n",
      "         [-1.5335e-06,  0.0000e+00,  0.0000e+00,  3.1287e+00, -3.2486e+00,\n",
      "           6.6745e+00, -3.2398e+00,  1.7192e+00,  8.7945e-01],\n",
      "         [-1.3208e-06,  0.0000e+00,  0.0000e+00,  6.7934e+00, -6.7348e+00,\n",
      "          -3.1492e+00, -6.7356e+00, -1.0024e+01,  8.1968e-01],\n",
      "         [-5.4282e-06,  0.0000e+00,  0.0000e+00, -4.4793e-01, -4.3423e-01,\n",
      "          -1.1140e+00, -3.7920e-01,  3.8665e+01,  0.0000e+00]],\n",
      "\n",
      "        [[-2.4632e-04,  0.0000e+00,  0.0000e+00, -4.9585e+03,  3.3911e+02,\n",
      "           1.0669e+02,  3.3713e+02, -6.5439e+04, -3.4823e+03],\n",
      "         [-2.6540e-04,  0.0000e+00,  0.0000e+00, -1.0486e+03, -1.0632e+03,\n",
      "          -1.9196e+02, -1.0652e+03, -3.7300e+04,  6.2076e+03],\n",
      "         [ 7.0437e-04,  0.0000e+00,  0.0000e+00, -9.8855e+03,  7.0351e+03,\n",
      "          -3.1670e+01,  7.0403e+03,  1.0043e+03,  0.0000e+00],\n",
      "         [-5.9236e-07,  0.0000e+00,  0.0000e+00,  4.7741e+00, -6.5320e+00,\n",
      "           3.6443e+00, -6.5344e+00, -1.2981e+00,  1.1172e+00],\n",
      "         [ 3.3050e-07,  0.0000e+00,  0.0000e+00,  1.7274e+00, -3.6638e+00,\n",
      "          -6.4269e+00, -3.6656e+00, -7.6670e+00,  3.5326e-01],\n",
      "         [-3.7291e-06,  0.0000e+00,  0.0000e+00,  5.5037e+00, -2.3410e-01,\n",
      "          -1.1435e+00, -2.3152e-01,  3.8987e+01,  0.0000e+00]],\n",
      "\n",
      "        [[-9.9311e-04,  0.0000e+00,  0.0000e+00,  6.8390e+02, -1.6215e+03,\n",
      "           2.8161e+02, -1.6422e+03,  1.2960e+04, -6.7888e+03],\n",
      "         [ 5.4352e-03,  0.0000e+00,  0.0000e+00, -6.9360e+03, -6.1739e+02,\n",
      "           5.6783e+01, -6.1635e+02, -6.9844e+04, -1.3669e+03],\n",
      "         [-1.6030e-04,  0.0000e+00,  0.0000e+00,  2.4581e+03,  6.7125e+03,\n",
      "           6.9066e+01,  6.7917e+03,  1.3209e+03,  0.0000e+00],\n",
      "         [ 5.1879e-06,  0.0000e+00,  0.0000e+00, -1.4338e+00,  1.5000e+00,\n",
      "           7.2326e+00,  1.5110e+00, -8.1224e+00,  6.6802e-01],\n",
      "         [ 1.6747e-06,  0.0000e+00,  0.0000e+00, -2.1872e+00, -7.4606e+00,\n",
      "           1.3797e+00, -7.5037e+00, -8.1978e+00, -1.7788e+00],\n",
      "         [-2.1242e-05,  0.0000e+00,  0.0000e+00,  7.1514e+00, -3.0678e-01,\n",
      "           1.8682e+00, -3.1748e-01,  3.7529e+01,  0.0000e+00]],\n",
      "\n",
      "        [[-1.4628e-03,  0.0000e+00,  0.0000e+00,  5.0160e+03, -5.5457e+02,\n",
      "           5.3768e+01, -5.3202e+02,  6.5061e+04, -2.7763e+03],\n",
      "         [-2.7292e-04,  0.0000e+00,  0.0000e+00,  6.5206e+02, -1.6282e+03,\n",
      "           1.2923e+02, -1.6515e+03, -2.8909e+04, -6.3698e+03],\n",
      "         [ 3.3061e-03,  0.0000e+00,  0.0000e+00, -1.0315e+04,  6.7356e+03,\n",
      "           3.1674e+01,  6.7836e+03,  5.6846e+02,  0.0000e+00],\n",
      "         [ 2.4927e-06,  0.0000e+00,  0.0000e+00, -5.6737e+00,  6.9653e+00,\n",
      "           2.9686e+00,  6.9881e+00, -8.1135e-01,  1.7878e+00],\n",
      "         [ 1.3210e-06,  0.0000e+00,  0.0000e+00,  1.1364e+00, -3.0274e+00,\n",
      "           6.7228e+00, -3.0458e+00, -1.0067e+01, -5.7562e-01],\n",
      "         [-8.7028e-06,  0.0000e+00,  0.0000e+00,  4.9364e+00, -1.8291e-01,\n",
      "           1.8637e+00, -1.5300e-01,  3.7639e+01,  0.0000e+00]],\n",
      "\n",
      "        [[-4.0716e-03,  0.0000e+00,  0.0000e+00,  4.8832e+03, -1.1657e+03,\n",
      "           2.4313e+02, -1.1650e+03,  4.2969e+04, -5.4751e+03],\n",
      "         [ 3.0932e-03,  0.0000e+00,  0.0000e+00, -3.4839e+03, -1.2939e+03,\n",
      "           1.8877e+02, -1.3295e+03, -5.7109e+04, -4.2612e+03],\n",
      "         [ 5.3813e-03,  0.0000e+00,  0.0000e+00, -6.9899e+03,  6.7250e+03,\n",
      "           7.4256e+01,  6.8076e+03,  1.4305e+03,  0.0000e+00],\n",
      "         [ 5.5784e-06,  0.0000e+00,  0.0000e+00, -3.4329e+00,  4.6738e+00,\n",
      "           5.8529e+00,  4.6985e+00, -3.2261e+00,  1.4354e+00],\n",
      "         [ 1.2191e-06,  0.0000e+00,  0.0000e+00,  1.7606e+00, -5.9944e+00,\n",
      "           4.4533e+00, -6.0369e+00, -1.1494e+01, -1.2572e+00],\n",
      "         [-2.0341e-05,  0.0000e+00,  0.0000e+00,  6.5614e+00, -3.6325e-01,\n",
      "           1.8655e+00, -3.3942e-01,  3.7588e+01,  0.0000e+00]],\n",
      "\n",
      "        [[-1.4194e-05,  0.0000e+00,  0.0000e+00, -6.2767e+02,  7.8154e+02,\n",
      "           6.0163e+03,  7.7861e+02,  7.2778e+03,  4.0831e+03],\n",
      "         [ 7.1785e-05,  0.0000e+00,  0.0000e+00, -3.9847e+03, -6.0551e+03,\n",
      "           2.5272e+02, -6.0323e+03,  4.0595e+04, -6.1611e+02],\n",
      "         [ 8.0533e-05,  0.0000e+00,  0.0000e+00,  6.0744e+03, -4.0201e+03,\n",
      "           7.8769e+02, -4.0051e+03, -6.8718e+04,  0.0000e+00],\n",
      "         [-2.4235e-07,  0.0000e+00,  0.0000e+00, -7.9414e-01,  6.2343e-01,\n",
      "          -4.0542e+00,  6.2227e-01,  4.7284e+00,  6.1154e+00],\n",
      "         [ 1.8907e-06,  0.0000e+00,  0.0000e+00,  6.0874e+00,  4.1254e+00,\n",
      "          -1.6954e-01,  4.1176e+00, -3.0698e+01,  7.8868e-01],\n",
      "         [ 1.2407e-06,  0.0000e+00,  0.0000e+00,  4.1111e+00, -6.0949e+00,\n",
      "          -5.2876e-01, -6.0835e+00, -2.6332e+01,  0.0000e+00]]])\n"
     ]
    }
   ],
   "source": [
    "#now we can build the partial derivatives matrix, of shape Nx6x9 (N is the number of tsince elements, 6 is the number of elements in the state vector, and 9 is the number of elements in the TLE):\n",
    "partial_derivatives = torch.zeros((len(tsinces),6,9))\n",
    "for k in range(len(tsinces)):\n",
    "    for i in range(6):\n",
    "        tle_elements[k].grad=None\n",
    "        state_teme[k].flatten()[i].backward(retain_graph=True)\n",
    "        partial_derivatives[k,i,:] = tle_elements[k].grad\n",
    "#let's print them to screen:\n",
    "print(partial_derivatives)"
   ]
  }
 ],
 "metadata": {
  "kernelspec": {
   "display_name": "dsgp4",
   "language": "python",
   "name": "python3"
  },
  "language_info": {
   "codemirror_mode": {
    "name": "ipython",
    "version": 3
   },
   "file_extension": ".py",
   "mimetype": "text/x-python",
   "name": "python",
   "nbconvert_exporter": "python",
   "pygments_lexer": "ipython3",
   "version": "3.10.12"
  },
  "orig_nbformat": 4
 },
 "nbformat": 4,
 "nbformat_minor": 2
}
