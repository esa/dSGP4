{
 "cells": [
  {
   "cell_type": "markdown",
   "metadata": {},
   "source": [
    "# $\\partial\\textrm{SGP4}$ Autodiff Support\n",
    "\n",
    "In this notebook, we show how to use the autodiff feature of $\\partial\\textrm{SGP4}$. Due to the fact that it is written in `pytorch`, it automatically supports automatic differentiation via `torch.autograd`. \n",
    "\n",
    "In this notebook, we show how these partial derivatives can be constructed: for more advanced examples on how to use these gradients for practical applications, see the tutorials on `state_transition_matrix_computation`, `covariance_propagation`, `graident_based_optimization`, `orbit_determination`."
   ]
  },
  {
   "cell_type": "code",
   "execution_count": 1,
   "metadata": {},
   "outputs": [],
   "source": [
    "import dsgp4\n",
    "import torch"
   ]
  },
  {
   "cell_type": "markdown",
   "metadata": {},
   "source": [
    "We create a TLE object"
   ]
  },
  {
   "cell_type": "code",
   "execution_count": 2,
   "metadata": {},
   "outputs": [
    {
     "name": "stdout",
     "output_type": "stream",
     "text": [
      "TLE(\n",
      "0 COSMOS 2251 DEB\n",
      "1 34454U 93036SX  22068.91971155  .00000319  00000-0  11812-3 0  9996\n",
      "2 34454  74.0583 280.7094 0037596 327.9100  31.9764 14.35844873683320\n",
      ")\n"
     ]
    }
   ],
   "source": [
    "#as always, first, we create a TLE object:\n",
    "tle=[]\n",
    "tle.append('0 COSMOS 2251 DEB')\n",
    "tle.append('1 34454U 93036SX  22068.91971155  .00000319  00000-0  11812-3 0  9996')\n",
    "tle.append('2 34454  74.0583 280.7094 0037596 327.9100  31.9764 14.35844873683320')\n",
    "tle = dsgp4.tle.TLE(tle)\n",
    "print(tle)"
   ]
  },
  {
   "cell_type": "markdown",
   "metadata": {},
   "source": [
    "Now, as shown in the `tle_propagation` tutorial, we can propagate the TLE. However, instead of using the standard API, we require `torch.autograd` to record the operations w.r.t. the time."
   ]
  },
  {
   "cell_type": "markdown",
   "metadata": {},
   "source": [
    "## Partials with respect to time\n",
    "\n",
    "Let's compute the partials of the $\\partial \\textrm{SGP4}$ output w.r.t. the propagation times\n",
    "\n",
    "### Single TLEs\n",
    "\n",
    "Let's first see the case of single TLEs, propagated at various future times:"
   ]
  },
  {
   "cell_type": "code",
   "execution_count": 3,
   "metadata": {},
   "outputs": [
    {
     "name": "stdout",
     "output_type": "stream",
     "text": [
      "tensor([[[ 1.3318e+03, -7.0047e+03,  2.4304e+01],\n",
      "         [ 2.0168e+00,  4.0082e-01,  7.2028e+00]],\n",
      "\n",
      "        [[ 1.3593e+03, -6.9985e+03,  1.2300e+02],\n",
      "         [ 1.9965e+00,  5.0645e-01,  7.2017e+00]],\n",
      "\n",
      "        [[ 1.3535e+03, -6.9999e+03,  1.0218e+02],\n",
      "         [ 2.0008e+00,  4.8418e-01,  7.2021e+00]],\n",
      "\n",
      "        [[ 1.3630e+03, -6.9976e+03,  1.3629e+02],\n",
      "         [ 1.9937e+00,  5.2067e-01,  7.2014e+00]],\n",
      "\n",
      "        [[ 1.3998e+03, -6.9865e+03,  2.7032e+02],\n",
      "         [ 1.9654e+00,  6.6398e-01,  7.1973e+00]],\n",
      "\n",
      "        [[ 1.4055e+03, -6.9846e+03,  2.9104e+02],\n",
      "         [ 1.9609e+00,  6.8611e-01,  7.1964e+00]],\n",
      "\n",
      "        [[ 1.3804e+03, -6.9927e+03,  1.9949e+02],\n",
      "         [ 1.9804e+00,  5.8826e-01,  7.1998e+00]],\n",
      "\n",
      "        [[ 1.3265e+03, -7.0058e+03,  5.4107e+00],\n",
      "         [ 2.0206e+00,  3.8059e-01,  7.2029e+00]],\n",
      "\n",
      "        [[ 1.4223e+03, -6.9784e+03,  3.5298e+02],\n",
      "         [ 1.9475e+00,  7.5228e-01,  7.1933e+00]],\n",
      "\n",
      "        [[ 1.4269e+03, -6.9766e+03,  3.6991e+02],\n",
      "         [ 1.9438e+00,  7.7035e-01,  7.1924e+00]]],\n",
      "       grad_fn=<TransposeBackward0>)\n"
     ]
    }
   ],
   "source": [
    "#let's take a random tensor of 10 tsince elements, where we track the gradients:\n",
    "tsince=torch.rand((10,),requires_grad=True)\n",
    "#the state is then:\n",
    "state_teme = dsgp4.propagate(tle,\n",
    "                tsinces=tsince,\n",
    "                initialized=False)\n",
    "#now, we can see that the gradient is tracked:\n",
    "print(state_teme)"
   ]
  },
  {
   "cell_type": "markdown",
   "metadata": {},
   "source": [
    "Let's now retrieve the partial derivatives of the SGP4 output w.r.t. time.\n",
    "\n",
    "Since the state is position and velocity (i.e., $[x,y,z,v_x,v_y,v_z]$), these partials will be all the elements of type:\n",
    "\\begin{equation}\n",
    "\\dfrac{d \\pmb{x}}{d t}=[\\dfrac{dx}{dt}, \\dfrac{dy}{dt}, \\dfrac{dz}{dt}, \\dfrac{d^2x}{dt^2}, \\dfrac{d^2y}{dt^2}, \\dfrac{d^2z}{dt^2}]^T=[v_x, v_y, v_z, \\dfrac{dv_x}{dt}, \\dfrac{dv_y}{dt}, \\dfrac{dv_z}{dt}]^T\n",
    "\\end{equation}\n",
    "\n",
    "\n",
    "```{note}\n",
    "One thing to be careful about is that $\\partial\\textrm{SGP4}$, mirroring the original $\\textrm{SGP4}$, takes the time in minutes, and returns the state in km and km/s. Hence, the derivatives will have dimensions coherent to these, and to return to SI, conversions have to be made.\n",
    "```"
   ]
  },
  {
   "cell_type": "code",
   "execution_count": 4,
   "metadata": {},
   "outputs": [
    {
     "name": "stdout",
     "output_type": "stream",
     "text": [
      "tensor([[[ 1.2101e+02,  2.4049e+01,  4.3217e+02],\n",
      "         [-8.7979e-02,  4.6273e-01, -1.6100e-03]],\n",
      "\n",
      "        [[ 1.1979e+02,  3.0387e+01,  4.3210e+02],\n",
      "         [-8.9791e-02,  4.6230e-01, -8.1460e-03]],\n",
      "\n",
      "        [[ 1.2005e+02,  2.9051e+01,  4.3212e+02],\n",
      "         [-8.9411e-02,  4.6240e-01, -6.7677e-03]],\n",
      "\n",
      "        [[ 1.1962e+02,  3.1240e+01,  4.3209e+02],\n",
      "         [-9.0034e-02,  4.6223e-01, -9.0261e-03]],\n",
      "\n",
      "        [[ 1.1792e+02,  3.9839e+01,  4.3184e+02],\n",
      "         [-9.2462e-02,  4.6147e-01, -1.7902e-02]],\n",
      "\n",
      "        [[ 1.1766e+02,  4.1167e+01,  4.3178e+02],\n",
      "         [-9.2834e-02,  4.6134e-01, -1.9273e-02]],\n",
      "\n",
      "        [[ 1.1883e+02,  3.5296e+01,  4.3199e+02],\n",
      "         [-9.1183e-02,  4.6190e-01, -1.3212e-02]],\n",
      "\n",
      "        [[ 1.2124e+02,  2.2835e+01,  4.3217e+02],\n",
      "         [-8.7630e-02,  4.6280e-01, -3.5867e-04]],\n",
      "\n",
      "        [[ 1.1685e+02,  4.5137e+01,  4.3160e+02],\n",
      "         [-9.3942e-02,  4.6091e-01, -2.3375e-02]],\n",
      "\n",
      "        [[ 1.1663e+02,  4.6222e+01,  4.3154e+02],\n",
      "         [-9.4244e-02,  4.6079e-01, -2.4495e-02]]])\n"
     ]
    }
   ],
   "source": [
    "partial_derivatives = torch.zeros_like(state_teme)\n",
    "for i in [0,1]:\n",
    "    for j in [0,1,2]:\n",
    "        tsince.grad=None\n",
    "        state_teme[:,i,j].backward(torch.ones_like(tsince),retain_graph=True)\n",
    "        partial_derivatives[:,i,j] = tsince.grad\n",
    "\n",
    "#let's print to screen the partials:\n",
    "print(partial_derivatives)"
   ]
  },
  {
   "cell_type": "markdown",
   "metadata": {},
   "source": [
    "### Batch TLEs\n",
    "\n",
    "Let's now see how it works for batch TLEs. The API is basically identical:"
   ]
  },
  {
   "cell_type": "code",
   "execution_count": 5,
   "metadata": {},
   "outputs": [],
   "source": [
    "#we load 6 TLEs:\n",
    "inp_file=\"\"\"0 PSLV DEB\n",
    "1 35350U 01049QJ  22068.76869562  .00000911  00000-0  24939-3 0  9998\n",
    "2 35350  98.6033  64.7516 0074531  99.8340 261.1278 14.48029442457561\n",
    "0 PSLV DEB *\n",
    "1 35351U 01049QK  22066.70636923  .00002156  00000-0  63479-3 0  9999\n",
    "2 35351  98.8179  29.5651 0005211  45.5944 314.5671 14.44732274457505\n",
    "0 SL-18 DEB\n",
    "1 35354U 93014BD  22068.76520028  .00021929  00000-0  20751-2 0  9995\n",
    "2 35354  75.7302 100.7819 0059525 350.7978   9.2117 14.92216400847487\n",
    "0 SL-18 DEB\n",
    "1 35359U 93014BJ  22068.55187275  .00025514  00000-0  24908-2 0  9992\n",
    "2 35359  75.7369 156.1582 0054843  50.5279 310.0745 14.91164684775759\n",
    "0 SL-18 DEB\n",
    "1 35360U 93014BK  22068.44021735  .00019061  00000-0  20292-2 0  9992\n",
    "2 35360  75.7343 127.2487 0071107  32.5913 327.9635 14.86997880798827\n",
    "0 METEOR 2-17 DEB\n",
    "1 35364U 88005Y   22067.81503681  .00001147  00000-0  84240-3 0  9995\n",
    "2 35364  82.5500  92.4124 0018834 303.2489 178.0638 13.94853833332534\"\"\"\n",
    "lines=inp_file.splitlines()\n",
    "#let's create the TLE objects\n",
    "tles=[]\n",
    "for i in range(0,len(lines),3):\n",
    "    data=[]\n",
    "    data.append(lines[i])\n",
    "    data.append(lines[i+1])\n",
    "    data.append(lines[i+2])\n",
    "    tles.append(dsgp4.tle.TLE(data))\n",
    "#we also create 9 random times, tracking the gradients:\n",
    "tsinces=torch.rand((6,),requires_grad=True)"
   ]
  },
  {
   "cell_type": "code",
   "execution_count": 6,
   "metadata": {},
   "outputs": [],
   "source": [
    "#let's propagate the batch:\n",
    "state_teme = dsgp4.propagate_batch(tles,\n",
    "                tsinces=tsinces,\n",
    "                initialized=False)"
   ]
  },
  {
   "cell_type": "markdown",
   "metadata": {},
   "source": [
    "Now, let's retrieve the partial of each TLE, at each propagated time, and store them into a Nx2x3 matrix:"
   ]
  },
  {
   "cell_type": "code",
   "execution_count": 7,
   "metadata": {},
   "outputs": [
    {
     "name": "stdout",
     "output_type": "stream",
     "text": [
      "tensor([[[ 5.3047e+01, -4.4699e+01,  4.4343e+02],\n",
      "         [-2.0339e-01, -4.2612e-01, -1.4617e-02]],\n",
      "\n",
      "        [[ 2.0159e+01, -6.7614e+01,  4.4352e+02],\n",
      "         [-4.1173e-01, -2.3075e-01, -1.5824e-02]],\n",
      "\n",
      "        [[-1.0683e+02, -3.9549e+01,  4.4202e+02],\n",
      "         [ 9.8180e-02, -4.8835e-01, -2.0083e-02]],\n",
      "\n",
      "        [[-3.3418e+01, -1.0775e+02,  4.4114e+02],\n",
      "         [ 4.5454e-01, -1.9776e-01, -1.1247e-02]],\n",
      "\n",
      "        [[-8.0926e+01, -7.9038e+01,  4.4180e+02],\n",
      "         [ 3.0291e-01, -3.9315e-01, -1.2472e-02]],\n",
      "\n",
      "        [[ 4.6984e+01, -3.6912e+02, -2.4033e+02],\n",
      "         [ 3.8217e-02,  2.4712e-01, -3.7223e-01]]])\n"
     ]
    }
   ],
   "source": [
    "#let's retrieve the partials w.r.t. time:\n",
    "partial_derivatives = torch.zeros_like(state_teme)\n",
    "for i in [0,1]:\n",
    "    for j in [0,1,2]:\n",
    "        tsinces.grad=None\n",
    "        state_teme[:,i,j].backward(torch.ones_like(tsinces),retain_graph=True)\n",
    "        partial_derivatives[:,i,j] = tsinces.grad\n",
    "\n",
    "#let's print to screen the partials:\n",
    "print(partial_derivatives)"
   ]
  },
  {
   "cell_type": "markdown",
   "metadata": {},
   "source": [
    "## Partials with respect to TLE parameters\n",
    "\n",
    "Let's now tackle the case in which we are interested in the partials of the $\\partial\\textrm{SGP4}$ output w.r.t. the TLE parameters.\n",
    "\n",
    "### Single TLEs\n",
    "\n",
    "We first tackle the case of single TLE, propagated at multiple times:"
   ]
  },
  {
   "cell_type": "markdown",
   "metadata": {},
   "source": [
    "In this case, we want the Jacobian of the output state, w.r.t. the following TLE parameters $\\textrm{TLE}=[n,e,i,\\Omega,\\omega,M,B^*,\\dot{n},\\ddot{n}]$, where:\n",
    "\n",
    "* $n$ is the mean motion (also known as `no_kozai` in the original implementation) [rad/minute]; \n",
    "* $e$ is the eccentricity [-]; \n",
    "* $i$ is the inclination [rad]; \n",
    "* $\\Omega$ is the right ascension of the ascending node [rad]; \n",
    "* $\\omega$ is the argument of perigee [rad];\n",
    "* $M$ is the mean anomaly [rad];\n",
    "* $B^*$ is the Bstar parameter [1/earth radii]\n",
    "* $\\dot{n}$ mean motion first derivative [radians/$\\textrm{minute}^2$]\n",
    "* $\\ddot{n}$ mean motion second derivative [radians/$\\textrm{minute}^2$]\n",
    "\n",
    "\\begin{equation}\n",
    "\\dfrac{\\partial \\pmb{x}}{\\partial \\textrm{TLE}}=\n",
    "\\begin{bmatrix}\n",
    "\\frac{\\partial x}{\\partial B^*} & \\frac{\\partial x}{\\partial \\dot{n}} & \\frac{\\partial x}{\\partial \\ddot{n}} & \\frac{\\partial x}{\\partial e} & \\frac{\\partial x}{\\partial \\omega} & \\frac{\\partial x}{\\partial i} & \\frac{\\partial x}{\\partial M} & \\frac{\\partial x}{\\partial n} & \\frac{\\partial x}{\\partial \\Omega} \\\\\n",
    "\\\\\n",
    "\\frac{\\partial y}{\\partial B^*} & \\frac{\\partial y}{\\partial \\dot{n}} & \\frac{\\partial y}{\\partial \\ddot{n}} & \\frac{\\partial y}{\\partial e} & \\frac{\\partial y}{\\partial \\omega} & \\frac{\\partial y}{\\partial i} & \\frac{\\partial y}{\\partial M} & \\frac{\\partial y}{\\partial n} & \\frac{\\partial y}{\\partial \\Omega} \\\\\n",
    "\\\\\n",
    "\\frac{\\partial z}{\\partial B^*} & \\frac{\\partial z}{\\partial \\dot{n}} & \\frac{\\partial z}{\\partial \\ddot{n}} & \\frac{\\partial z}{\\partial e} & \\frac{\\partial z}{\\partial \\omega} & \\frac{\\partial z}{\\partial i} & \\frac{\\partial z}{\\partial M} & \\frac{\\partial z}{\\partial n} & \\frac{\\partial z}{\\partial \\Omega} \\\\\n",
    "\\\\\n",
    "\\frac{\\partial v_x}{\\partial B^*} & \\frac{\\partial v_x}{\\partial \\dot{n}} & \\frac{\\partial v_x}{\\partial \\ddot{n}} & \\frac{\\partial v_x}{\\partial e} & \\frac{\\partial v_x}{\\partial \\omega} & \\frac{\\partial v_x}{\\partial i} & \\frac{\\partial v_x}{\\partial M} & \\frac{\\partial v_x}{\\partial n} & \\frac{\\partial v_x}{\\partial \\Omega} \\\\\n",
    "\\\\\n",
    "\\frac{\\partial v_y}{\\partial B^*} & \\frac{\\partial v_y}{\\partial \\dot{n}} & \\frac{\\partial v_y}{\\partial \\ddot{n}} & \\frac{\\partial v_y}{\\partial e} & \\frac{\\partial v_y}{\\partial \\omega} & \\frac{\\partial v_y}{\\partial i} & \\frac{\\partial v_y}{\\partial M} & \\frac{\\partial v_y}{\\partial n} & \\frac{\\partial v_y}{\\partial \\Omega} \\\\\n",
    "\\\\\n",
    "\\frac{\\partial v_z}{\\partial B^*} & \\frac{\\partial v_z}{\\partial \\dot{n}} & \\frac{\\partial v_z}{\\partial \\ddot{n}} & \\frac{\\partial v_z}{\\partial e} & \\frac{\\partial v_z}{\\partial \\omega} & \\frac{\\partial v_z}{\\partial i} & \\frac{\\partial v_z}{\\partial M} & \\frac{\\partial v_z}{\\partial n} & \\frac{\\partial v_z}{\\partial \\Omega} \\\\\n",
    "\\\\\n",
    "\\frac{\\partial \\dot{n}}{\\partial B^*} & \\frac{\\partial \\dot{n}}{\\partial \\dot{n}} & \\frac{\\partial \\dot{n}}{\\partial \\ddot{n}} & \\frac{\\partial \\dot{n}}{\\partial e} & \\frac{\\partial \\dot{n}}{\\partial \\omega} & \\frac{\\partial \\dot{n}}{\\partial i} & \\frac{\\partial \\dot{n}}{\\partial M} & \\frac{\\partial \\dot{n}}{\\partial n} & \\frac{\\partial \\dot{n}}{\\partial \\Omega} \\\\\n",
    "\\\\\n",
    "\\frac{\\partial \\ddot{n}}{\\partial B^*} & \\frac{\\partial \\ddot{n}}{\\partial \\dot{n}} & \\frac{\\partial \\ddot{n}}{\\partial \\ddot{n}} & \\frac{\\partial \\ddot{n}}{\\partial e} & \\frac{\\partial \\ddot{n}}{\\partial \\omega} & \\frac{\\partial \\ddot{n}}{\\partial i} & \\frac{\\partial \\ddot{n}}{\\partial M} & \\frac{\\partial \\ddot{n}}{\\partial n} & \\frac{\\partial \\ddot{n}}{\\partial \\Omega}\n",
    "\\end{bmatrix}\n",
    "\\end{equation}"
   ]
  },
  {
   "cell_type": "code",
   "execution_count": 12,
   "metadata": {},
   "outputs": [
    {
     "name": "stdout",
     "output_type": "stream",
     "text": [
      "TLE(\n",
      "0 COSMOS 2251 DEB\n",
      "1 34454U 93036SX  22068.91971155  .00000319  00000-0  11812-3 0  9996\n",
      "2 34454  74.0583 280.7094 0037596 327.9100  31.9764 14.35844873683320\n",
      ")\n"
     ]
    }
   ],
   "source": [
    "#as always, first, we create a TLE object:\n",
    "tle=[]\n",
    "tle.append('0 COSMOS 2251 DEB')\n",
    "tle.append('1 34454U 93036SX  22068.91971155  .00000319  00000-0  11812-3 0  9996')\n",
    "tle.append('2 34454  74.0583 280.7094 0037596 327.9100  31.9764 14.35844873683320')\n",
    "tle = dsgp4.tle.TLE(tle)\n",
    "print(tle)\n",
    "tle_elements=dsgp4.initialize_tle(tle,with_grad=True)"
   ]
  },
  {
   "cell_type": "code",
   "execution_count": 13,
   "metadata": {},
   "outputs": [],
   "source": [
    "#let's select 10 random times:\n",
    "tsince=torch.rand((10,))\n",
    "#and let's propagate:\n",
    "state_teme=dsgp4.propagate(tle,tsince)"
   ]
  },
  {
   "cell_type": "code",
   "execution_count": 175,
   "metadata": {},
   "outputs": [
    {
     "name": "stdout",
     "output_type": "stream",
     "text": [
      "tensor([[[-1.1153e-04,  0.0000e+00,  0.0000e+00,  9.5701e+02,  1.8798e+03,\n",
      "          -2.2245e+02,  1.8945e+03, -1.3809e+04,  6.9905e+03],\n",
      "         [-5.2772e-04,  0.0000e+00,  0.0000e+00,  6.4819e+03,  6.0225e+02,\n",
      "          -4.5455e+01,  5.9124e+02,  7.4630e+04,  1.3877e+03],\n",
      "         [-7.2626e-04,  0.0000e+00,  0.0000e+00,  7.5037e+03,  6.8538e+03,\n",
      "           6.0420e+01,  6.8972e+03,  1.0543e+03,  0.0000e+00],\n",
      "         [-1.0346e-06,  0.0000e+00,  0.0000e+00,  8.1737e-01, -1.4552e+00,\n",
      "          -7.0701e+00, -1.4639e+00,  9.7349e+00, -6.1659e-01],\n",
      "         [-6.5984e-07,  0.0000e+00,  0.0000e+00,  4.6502e+00,  7.3521e+00,\n",
      "          -1.3395e+00,  7.3738e+00,  7.0547e+00,  1.9748e+00],\n",
      "         [-3.9817e-06,  0.0000e+00,  0.0000e+00,  5.8403e+00, -2.2312e-01,\n",
      "           2.0508e+00, -2.3897e-01,  3.8199e+01,  0.0000e+00]],\n",
      "\n",
      "        [[-1.5407e-04,  0.0000e+00,  0.0000e+00,  9.6475e+02,  1.8656e+03,\n",
      "          -2.9095e+02,  1.8803e+03, -1.3716e+04,  6.9841e+03],\n",
      "         [-6.9627e-04,  0.0000e+00,  0.0000e+00,  6.5275e+03,  6.7346e+02,\n",
      "          -5.8433e+01,  6.6266e+02,  7.4706e+04,  1.4068e+03],\n",
      "         [-9.8192e-04,  0.0000e+00,  0.0000e+00,  7.5599e+03,  6.8513e+03,\n",
      "           8.0289e+01,  6.8945e+03,  1.4240e+03,  0.0000e+00],\n",
      "         [-1.3433e-06,  0.0000e+00,  0.0000e+00,  7.7004e-01, -1.4752e+00,\n",
      "          -7.0674e+00, -1.4840e+00,  9.4058e+00, -6.9113e-01],\n",
      "         [-9.0067e-07,  0.0000e+00,  0.0000e+00,  4.7662e+00,  7.3455e+00,\n",
      "          -1.3391e+00,  7.3668e+00,  8.6379e+00,  1.9599e+00],\n",
      "         [-5.1983e-06,  0.0000e+00,  0.0000e+00,  5.7528e+00, -2.9641e-01,\n",
      "           2.0500e+00, -3.1271e-01,  3.8097e+01,  0.0000e+00]],\n",
      "\n",
      "        [[-1.6269e-04,  0.0000e+00,  0.0000e+00,  9.6619e+02,  1.8629e+03,\n",
      "          -3.0412e+02,  1.8775e+03, -1.3699e+04,  6.9828e+03],\n",
      "         [-7.2904e-04,  0.0000e+00,  0.0000e+00,  6.5364e+03,  6.8715e+02,\n",
      "          -6.0930e+01,  6.7639e+02,  7.4722e+04,  1.4104e+03],\n",
      "         [-1.0328e-03,  0.0000e+00,  0.0000e+00,  7.5707e+03,  6.8507e+03,\n",
      "           8.4111e+01,  6.8939e+03,  1.4950e+03,  0.0000e+00],\n",
      "         [-1.4021e-06,  0.0000e+00,  0.0000e+00,  7.6090e-01, -1.4790e+00,\n",
      "          -7.0667e+00, -1.4878e+00,  9.3416e+00, -7.0546e-01],\n",
      "         [-9.4898e-07,  0.0000e+00,  0.0000e+00,  4.7882e+00,  7.3441e+00,\n",
      "          -1.3390e+00,  7.3654e+00,  8.9421e+00,  1.9570e+00],\n",
      "         [-5.4316e-06,  0.0000e+00,  0.0000e+00,  5.7357e+00, -3.1051e-01,\n",
      "           2.0498e+00, -3.2690e-01,  3.8074e+01,  0.0000e+00]],\n",
      "\n",
      "        [[-1.5255e-04,  0.0000e+00,  0.0000e+00,  9.6449e+02,  1.8661e+03,\n",
      "          -2.8859e+02,  1.8808e+03, -1.3719e+04,  6.9844e+03],\n",
      "         [-6.9043e-04,  0.0000e+00,  0.0000e+00,  6.5259e+03,  6.7101e+02,\n",
      "          -5.7988e+01,  6.6021e+02,  7.4703e+04,  1.4061e+03],\n",
      "         [-9.7289e-04,  0.0000e+00,  0.0000e+00,  7.5580e+03,  6.8514e+03,\n",
      "           7.9606e+01,  6.8946e+03,  1.4113e+03,  0.0000e+00],\n",
      "         [-1.3328e-06,  0.0000e+00,  0.0000e+00,  7.7168e-01, -1.4745e+00,\n",
      "          -7.0675e+00, -1.4833e+00,  9.4172e+00, -6.8857e-01],\n",
      "         [-8.9211e-07,  0.0000e+00,  0.0000e+00,  4.7622e+00,  7.3457e+00,\n",
      "          -1.3391e+00,  7.3671e+00,  8.5835e+00,  1.9604e+00],\n",
      "         [-5.1566e-06,  0.0000e+00,  0.0000e+00,  5.7559e+00, -2.9390e-01,\n",
      "           2.0500e+00, -3.1018e-01,  3.8101e+01,  0.0000e+00]],\n",
      "\n",
      "        [[-2.2509e-04,  0.0000e+00,  0.0000e+00,  9.7554e+02,  1.8439e+03,\n",
      "          -3.9399e+02,  1.8584e+03, -1.3582e+04,  6.9732e+03],\n",
      "         [-9.5565e-04,  0.0000e+00,  0.0000e+00,  6.5983e+03,  7.8051e+02,\n",
      "          -7.7958e+01,  7.7002e+02,  7.4849e+04,  1.4352e+03],\n",
      "         [-1.3944e-03,  0.0000e+00,  0.0000e+00,  7.6429e+03,  6.8461e+03,\n",
      "           1.1018e+02,  6.8891e+03,  1.9782e+03,  0.0000e+00],\n",
      "         [-1.7980e-06,  0.0000e+00,  0.0000e+00,  6.9822e-01, -1.5050e+00,\n",
      "          -7.0618e+00, -1.5139e+00,  8.8966e+00, -8.0318e-01],\n",
      "         [-1.2952e-06,  0.0000e+00,  0.0000e+00,  4.9370e+00,  7.3341e+00,\n",
      "          -1.3381e+00,  7.3549e+00,  1.1015e+01,  1.9371e+00],\n",
      "         [-7.0160e-06,  0.0000e+00,  0.0000e+00,  5.6166e+00, -4.0667e-01,\n",
      "           2.0485e+00, -4.2363e-01,  3.7890e+01,  0.0000e+00]],\n",
      "\n",
      "        [[-1.0489e-04,  0.0000e+00,  0.0000e+00,  9.5569e+02,  1.8822e+03,\n",
      "          -2.1117e+02,  1.8969e+03, -1.3824e+04,  6.9915e+03],\n",
      "         [-5.0023e-04,  0.0000e+00,  0.0000e+00,  6.4745e+03,  5.9052e+02,\n",
      "          -4.3318e+01,  5.7947e+02,  7.4619e+04,  1.3846e+03],\n",
      "         [-6.8557e-04,  0.0000e+00,  0.0000e+00,  7.4944e+03,  6.8541e+03,\n",
      "           5.7147e+01,  6.8975e+03,  9.9337e+02,  0.0000e+00],\n",
      "         [-9.8330e-07,  0.0000e+00,  0.0000e+00,  8.2513e-01, -1.4519e+00,\n",
      "          -7.0705e+00, -1.4606e+00,  9.7883e+00, -6.0431e-01],\n",
      "         [-6.2184e-07,  0.0000e+00,  0.0000e+00,  4.6309e+00,  7.3531e+00,\n",
      "          -1.3396e+00,  7.3749e+00,  6.7937e+00,  1.9773e+00],\n",
      "         [-3.7808e-06,  0.0000e+00,  0.0000e+00,  5.8545e+00, -2.1105e-01,\n",
      "           2.0509e+00, -2.2682e-01,  3.8214e+01,  0.0000e+00]],\n",
      "\n",
      "        [[-2.9529e-05,  0.0000e+00,  0.0000e+00,  9.3786e+02,  1.9111e+03,\n",
      "          -6.7874e+01,  1.9260e+03, -1.4029e+04,  7.0021e+03],\n",
      "         [-1.5742e-04,  0.0000e+00,  0.0000e+00,  6.3831e+03,  4.4141e+02,\n",
      "          -1.6170e+01,  4.2992e+02,  7.4515e+04,  1.3442e+03],\n",
      "         [-2.0383e-04,  0.0000e+00,  0.0000e+00,  7.3739e+03,  6.8569e+03,\n",
      "           1.5582e+01,  6.9006e+03,  2.1774e+02,  0.0000e+00],\n",
      "         [-3.1943e-07,  0.0000e+00,  0.0000e+00,  9.2284e-01, -1.4095e+00,\n",
      "          -7.0737e+00, -1.4180e+00,  1.0449e+01, -4.4823e-01],\n",
      "         [-1.8052e-07,  0.0000e+00,  0.0000e+00,  4.3815e+00,  7.3642e+00,\n",
      "          -1.3401e+00,  7.3867e+00,  3.4738e+00,  2.0077e+00],\n",
      "         [-1.2142e-06,  0.0000e+00,  0.0000e+00,  6.0287e+00, -5.7717e-02,\n",
      "           2.0517e+00, -7.2540e-02,  3.8328e+01,  0.0000e+00]],\n",
      "\n",
      "        [[-6.6909e-05,  0.0000e+00,  0.0000e+00,  9.4745e+02,  1.8961e+03,\n",
      "          -1.4295e+02,  1.9109e+03, -1.3920e+04,  6.9969e+03],\n",
      "         [-3.3563e-04,  0.0000e+00,  0.0000e+00,  6.4304e+03,  5.1956e+02,\n",
      "          -3.0394e+01,  5.0830e+02,  7.4561e+04,  1.3654e+03],\n",
      "         [-4.4812e-04,  0.0000e+00,  0.0000e+00,  7.4374e+03,  6.8558e+03,\n",
      "           3.7360e+01,  6.8994e+03,  6.2438e+02,  0.0000e+00],\n",
      "         [-6.6999e-07,  0.0000e+00,  0.0000e+00,  8.7184e-01, -1.4318e+00,\n",
      "          -7.0724e+00, -1.4404e+00,  1.0107e+01, -5.3003e-01],\n",
      "         [-4.0213e-07,  0.0000e+00,  0.0000e+00,  4.5132e+00,  7.3588e+00,\n",
      "          -1.3399e+00,  7.3809e+00,  5.2144e+00,  1.9919e+00],\n",
      "         [-2.5621e-06,  0.0000e+00,  0.0000e+00,  5.9388e+00, -1.3805e-01,\n",
      "           2.0514e+00, -1.5338e-01,  3.8283e+01,  0.0000e+00]],\n",
      "\n",
      "        [[-2.0524e-04,  0.0000e+00,  0.0000e+00,  9.7275e+02,  1.8498e+03,\n",
      "          -3.6637e+02,  1.8643e+03, -1.3618e+04,  6.9763e+03],\n",
      "         [-8.8541e-04,  0.0000e+00,  0.0000e+00,  6.5791e+03,  7.5183e+02,\n",
      "          -7.2725e+01,  7.4126e+02,  7.4807e+04,  1.4276e+03],\n",
      "         [-1.2805e-03,  0.0000e+00,  0.0000e+00,  7.6209e+03,  6.8477e+03,\n",
      "           1.0217e+02,  6.8907e+03,  1.8300e+03,  0.0000e+00],\n",
      "         [-1.6773e-06,  0.0000e+00,  0.0000e+00,  7.1755e-01, -1.4971e+00,\n",
      "          -7.0635e+00, -1.5059e+00,  9.0347e+00, -7.7315e-01],\n",
      "         [-1.1857e-06,  0.0000e+00,  0.0000e+00,  4.8916e+00,  7.3373e+00,\n",
      "          -1.3384e+00,  7.3583e+00,  1.0378e+01,  1.9433e+00],\n",
      "         [-6.5303e-06,  0.0000e+00,  0.0000e+00,  5.6536e+00, -3.7712e-01,\n",
      "           2.0489e+00, -3.9390e-01,  3.7952e+01,  0.0000e+00]],\n",
      "\n",
      "        [[-1.6751e-04,  0.0000e+00,  0.0000e+00,  9.6698e+02,  1.8614e+03,\n",
      "          -3.1141e+02,  1.8760e+03, -1.3689e+04,  6.9821e+03],\n",
      "         [-7.4720e-04,  0.0000e+00,  0.0000e+00,  6.5414e+03,  6.9472e+02,\n",
      "          -6.2310e+01,  6.8398e+02,  7.4731e+04,  1.4124e+03],\n",
      "         [-1.0612e-03,  0.0000e+00,  0.0000e+00,  7.5766e+03,  6.8504e+03,\n",
      "           8.6224e+01,  6.8935e+03,  1.5343e+03,  0.0000e+00],\n",
      "         [-1.4346e-06,  0.0000e+00,  0.0000e+00,  7.5584e-01, -1.4811e+00,\n",
      "          -7.0664e+00, -1.4899e+00,  9.3060e+00, -7.1338e-01],\n",
      "         [-9.7595e-07,  0.0000e+00,  0.0000e+00,  4.8004e+00,  7.3434e+00,\n",
      "          -1.3389e+00,  7.3646e+00,  9.1103e+00,  1.9554e+00],\n",
      "         [-5.5604e-06,  0.0000e+00,  0.0000e+00,  5.7262e+00, -3.1831e-01,\n",
      "           2.0497e+00, -3.3473e-01,  3.8061e+01,  0.0000e+00]]])\n"
     ]
    }
   ],
   "source": [
    "#now we can build the partial derivatives matrix, of shape Nx6x9 (N is the number of tsince elements, 6 is the number of elements in the state vector, and 9 is the number of elements in the TLE):\n",
    "partial_derivatives = torch.zeros((len(tsince),6,9))\n",
    "for k in range(len(tsince)):\n",
    "    for i in range(6):\n",
    "        tle_elements.grad=None\n",
    "        state_teme[k].flatten()[i].backward(retain_graph=True)\n",
    "        partial_derivatives[k,i,:] = tle_elements.grad\n",
    "#let's print them to screen:\n",
    "print(partial_derivatives)"
   ]
  },
  {
   "cell_type": "markdown",
   "metadata": {},
   "source": [
    "### Batch TLEs:\n",
    "\n",
    "As for the time derivatives, the API stays practically identical:"
   ]
  },
  {
   "cell_type": "code",
   "execution_count": 22,
   "metadata": {},
   "outputs": [],
   "source": [
    "#we load 6 TLEs:\n",
    "inp_file=\"\"\"0 PSLV DEB\n",
    "1 35350U 01049QJ  22068.76869562  .00000911  00000-0  24939-3 0  9998\n",
    "2 35350  98.6033  64.7516 0074531  99.8340 261.1278 14.48029442457561\n",
    "0 PSLV DEB *\n",
    "1 35351U 01049QK  22066.70636923  .00002156  00000-0  63479-3 0  9999\n",
    "2 35351  98.8179  29.5651 0005211  45.5944 314.5671 14.44732274457505\n",
    "0 SL-18 DEB\n",
    "1 35354U 93014BD  22068.76520028  .00021929  00000-0  20751-2 0  9995\n",
    "2 35354  75.7302 100.7819 0059525 350.7978   9.2117 14.92216400847487\n",
    "0 SL-18 DEB\n",
    "1 35359U 93014BJ  22068.55187275  .00025514  00000-0  24908-2 0  9992\n",
    "2 35359  75.7369 156.1582 0054843  50.5279 310.0745 14.91164684775759\n",
    "0 SL-18 DEB\n",
    "1 35360U 93014BK  22068.44021735  .00019061  00000-0  20292-2 0  9992\n",
    "2 35360  75.7343 127.2487 0071107  32.5913 327.9635 14.86997880798827\n",
    "0 METEOR 2-17 DEB\n",
    "1 35364U 88005Y   22067.81503681  .00001147  00000-0  84240-3 0  9995\n",
    "2 35364  82.5500  92.4124 0018834 303.2489 178.0638 13.94853833332534\"\"\"\n",
    "lines=inp_file.splitlines()\n",
    "#let's create the TLE objects\n",
    "tles=[]\n",
    "for i in range(0,len(lines),3):\n",
    "    data=[]\n",
    "    data.append(lines[i])\n",
    "    data.append(lines[i+1])\n",
    "    data.append(lines[i+2])\n",
    "    tles.append(dsgp4.tle.TLE(data))\n",
    "#we also create 9 random times, tracking the gradients:\n",
    "tsinces=torch.rand((6,))"
   ]
  },
  {
   "cell_type": "code",
   "execution_count": 23,
   "metadata": {},
   "outputs": [],
   "source": [
    "#let's now initialize the TLEs, activating the gradient tracking for the TLE parameters:\n",
    "tle_elements=dsgp4.initialize_tle(tles,with_grad=True)"
   ]
  },
  {
   "cell_type": "code",
   "execution_count": 24,
   "metadata": {},
   "outputs": [],
   "source": [
    "#let's now propagate the batch of TLEs:\n",
    "state_teme = dsgp4.propagate_batch(tles,tsinces)"
   ]
  },
  {
   "cell_type": "markdown",
   "metadata": {},
   "source": [
    "Finally, we can build the matrix that contains the partial of the SGP4 output w.r.t. the TLE parameters, for each TLE:"
   ]
  },
  {
   "cell_type": "code",
   "execution_count": 25,
   "metadata": {},
   "outputs": [
    {
     "name": "stdout",
     "output_type": "stream",
     "text": [
      "tensor([[[-2.3345e-06,  0.0000e+00,  0.0000e+00,  5.0390e+03, -1.8054e+03,\n",
      "          -6.9430e+02, -1.8037e+03, -3.9909e+04, -6.3013e+03],\n",
      "         [-1.7187e-04,  0.0000e+00,  0.0000e+00,  2.7858e+03,  1.8878e+03,\n",
      "           3.6611e+02,  1.8726e+03, -6.8377e+04,  3.6010e+03],\n",
      "         [ 2.1285e-04,  0.0000e+00,  0.0000e+00,  8.7766e+03, -6.8196e+03,\n",
      "           2.8005e+02, -6.7961e+03, -1.0551e+04,  0.0000e+00],\n",
      "         [ 2.5089e-07,  0.0000e+00,  0.0000e+00,  3.6413e+00, -3.6444e+00,\n",
      "           6.1159e+00, -3.6403e+00, -1.1001e+01, -1.8993e+00],\n",
      "         [-1.0862e-07,  0.0000e+00,  0.0000e+00,  2.2908e+00, -6.3836e+00,\n",
      "          -3.1868e+00, -6.3695e+00,  8.6010e+00, -1.8282e+00],\n",
      "         [ 7.5074e-07,  0.0000e+00,  0.0000e+00,  5.9966e+00, -7.8541e-01,\n",
      "          -2.4942e+00, -7.9328e-01, -3.8001e+01,  0.0000e+00]],\n",
      "\n",
      "        [[ 1.6712e-04,  0.0000e+00,  0.0000e+00, -5.8440e+03,  1.2418e+03,\n",
      "          -1.6976e+02,  1.2475e+03, -6.3492e+04,  4.2894e+03],\n",
      "         [-8.9275e-05,  0.0000e+00,  0.0000e+00,  4.3672e+03,  2.1683e+03,\n",
      "          -2.3223e+02,  2.1777e+03,  4.8418e+04,  5.8726e+03],\n",
      "         [ 8.0560e-05,  0.0000e+00,  0.0000e+00, -6.7020e+01,  6.8376e+03,\n",
      "           9.8577e+01,  6.8677e+03,  1.4203e+03,  0.0000e+00],\n",
      "         [-5.0035e-07,  0.0000e+00,  0.0000e+00,  1.1629e+00, -5.9855e+00,\n",
      "          -4.1822e+00, -5.9987e+00,  2.8613e+00, -2.2049e+00],\n",
      "         [-6.5894e-07,  0.0000e+00,  0.0000e+00,  2.2776e+00,  4.3718e+00,\n",
      "          -5.5627e+00,  4.3813e+00,  1.5015e+01,  1.2627e+00],\n",
      "         [-2.2795e-06,  0.0000e+00,  0.0000e+00,  6.9562e+00, -2.9192e-01,\n",
      "           2.5164e+00, -2.9280e-01,  3.7975e+01,  0.0000e+00]],\n",
      "\n",
      "        [[-4.3001e-04,  0.0000e+00,  0.0000e+00, -6.1780e+02, -2.3717e+03,\n",
      "           3.0192e+02, -2.3592e+03, -3.7059e+04, -6.5197e+03],\n",
      "         [-3.3458e-04,  0.0000e+00,  0.0000e+00,  6.0110e+03,  8.1424e+02,\n",
      "          -1.5139e+02,  8.2081e+02, -7.0433e+04,  3.2300e+03],\n",
      "         [ 6.3039e-04,  0.0000e+00,  0.0000e+00,  9.1189e+03,  6.8406e+03,\n",
      "           1.1671e+02,  6.8182e+03,  1.6853e+03,  0.0000e+00],\n",
      "         [ 6.0368e-07,  0.0000e+00,  0.0000e+00, -3.0105e-01, -3.2851e+00,\n",
      "           6.1687e+00, -3.2762e+00, -1.5674e+01, -8.3447e-01],\n",
      "         [-6.8969e-07,  0.0000e+00,  0.0000e+00, -4.9236e+00, -6.6232e+00,\n",
      "          -3.1824e+00, -6.6133e+00, -7.2260e-01, -2.3997e+00],\n",
      "         [-2.3476e-06,  0.0000e+00,  0.0000e+00, -5.4992e+00, -3.3235e-01,\n",
      "           2.5103e+00, -3.4172e-01,  3.7626e+01,  0.0000e+00]],\n",
      "\n",
      "        [[ 1.6277e-04,  0.0000e+00,  0.0000e+00, -4.9243e+03,  1.5815e+03,\n",
      "          -2.4650e+02,  1.5884e+03, -5.3485e+04,  5.2788e+03],\n",
      "         [-1.3538e-04,  0.0000e+00,  0.0000e+00,  5.3879e+03,  1.9428e+03,\n",
      "          -2.3113e+02,  1.9506e+03,  5.9323e+04,  4.9982e+03],\n",
      "         [ 7.9200e-05,  0.0000e+00,  0.0000e+00,  1.7538e+01,  6.8348e+03,\n",
      "           1.1676e+02,  6.8633e+03,  1.6940e+03,  0.0000e+00],\n",
      "         [-7.1199e-07,  0.0000e+00,  0.0000e+00,  1.4726e+00, -5.0946e+00,\n",
      "          -5.1291e+00, -5.1053e+00,  4.7362e+00, -1.9757e+00],\n",
      "         [-6.6661e-07,  0.0000e+00,  0.0000e+00,  2.1179e+00,  5.3805e+00,\n",
      "          -4.7001e+00,  5.3916e+00,  1.5090e+01,  1.6082e+00],\n",
      "         [-2.6868e-06,  0.0000e+00,  0.0000e+00,  6.9479e+00, -3.4316e-01,\n",
      "           2.5157e+00, -3.4424e-01,  3.7875e+01,  0.0000e+00]],\n",
      "\n",
      "        [[ 4.9470e-04,  0.0000e+00,  0.0000e+00,  4.9460e+02,  5.9782e+02,\n",
      "          -3.7478e+01,  6.0856e+02,  7.8223e+04,  1.0206e+03],\n",
      "         [-5.2504e-05,  0.0000e+00,  0.0000e+00,  4.9341e+03, -2.4138e+03,\n",
      "           2.5911e+02, -2.4140e+03,  9.6337e+03, -7.1719e+03],\n",
      "         [ 3.1827e-04,  0.0000e+00,  0.0000e+00, -1.3317e+04,  6.8109e+03,\n",
      "           8.9257e+01,  6.8152e+03,  1.2677e+03,  0.0000e+00],\n",
      "         [ 8.1008e-08,  0.0000e+00,  0.0000e+00, -7.0130e+00,  7.3461e+00,\n",
      "          -8.9468e-01,  7.3496e+00,  7.8680e+00,  2.4655e+00],\n",
      "         [ 7.1308e-07,  0.0000e+00,  0.0000e+00, -1.5898e+00,  1.0492e+00,\n",
      "           6.9096e+00,  1.0460e+00, -1.2727e+01,  6.2189e-01],\n",
      "         [-1.9176e-06,  0.0000e+00,  0.0000e+00,  1.8751e+00, -2.7714e-01,\n",
      "           2.5200e+00, -2.6719e-01,  3.7718e+01,  0.0000e+00]]])\n"
     ]
    }
   ],
   "source": [
    "#now we can build the partial derivatives matrix, of shape Nx6x9 (N is the number of tsince elements, 6 is the number of elements in the state vector, and 9 is the number of elements in the TLE):\n",
    "partial_derivatives = torch.zeros((len(tsinces),6,9))\n",
    "for k in range(len(tsinces)):\n",
    "    for i in range(6):\n",
    "        tle_elements[k].grad=None\n",
    "        state_teme[k].flatten()[i].backward(retain_graph=True)\n",
    "        partial_derivatives[k,i,:] = tle_elements[k].grad\n",
    "#let's print them to screen:\n",
    "print(partial_derivatives)"
   ]
  }
 ],
 "metadata": {
  "kernelspec": {
   "display_name": "dsgp4",
   "language": "python",
   "name": "python3"
  },
  "language_info": {
   "codemirror_mode": {
    "name": "ipython",
    "version": 3
   },
   "file_extension": ".py",
   "mimetype": "text/x-python",
   "name": "python",
   "nbconvert_exporter": "python",
   "pygments_lexer": "ipython3",
   "version": "3.10.12"
  },
  "orig_nbformat": 4
 },
 "nbformat": 4,
 "nbformat_minor": 2
}
