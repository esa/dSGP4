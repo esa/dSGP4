{
 "cells": [
  {
   "cell_type": "markdown",
   "id": "fa428483",
   "metadata": {},
   "source": [
    "# Similarity Transformation - from Cartesian to TLE Covariance\n",
    "\n",
    "One obvious application of `dsgp4`, where the use of its differentiability can be useful, is for covariance transformation and propagation (see tutorial `covariance_propagation.ipynb`). \n",
    "\n",
    "In this notebook, we will discuss how to use `dsgp4` for the first case. "
   ]
  },
  {
   "cell_type": "code",
   "execution_count": 2,
   "id": "56ae5fb1",
   "metadata": {},
   "outputs": [],
   "source": [
    "import torch\n",
    "import dsgp4\n",
    "import numpy as np"
   ]
  },
  {
   "cell_type": "markdown",
   "id": "fad82ac4",
   "metadata": {},
   "source": [
    "## Covariance Transformation\n",
    "\n",
    "We start with the state corresponding to a given TLE at a certain time: this is in Cartesian TEME reference frame. \n",
    "\n",
    "Then, we assume that we have the covariance matrix associated to this state in the RTN frame (see, for instance, \"Fundamental of Astrodynamics and Applications\" by Vallado, for a discussion and theoretical background on these frames). We want to:\n",
    "* first convert the RTN covariance into TEME\n",
    "* then leverage `dsgp4` to transform the covariance matrix from position and velocity coordinates to TLE elements, leveraging the similarity transformation:\n",
    "\n",
    "\\begin{equation}\n",
    "P_{y} = m P_x m^T\\text{,}\n",
    "\\end{equation}\n",
    "\n",
    "where: \n",
    "\\begin{equation}\n",
    "m_{ij}=\\dfrac{\\partial y_i}{\\partial x_j}\n",
    "\\end{equation}\n",
    "* once the above is done, we are left with a covariance directly in TLE parameters, which can be used for several applications. An example, is to directly use the covariance to generate perturbed TLEs (from their mean) and feed them to $\\partial\\textrm{SGP4}$ to propagate the noisy observations\n",
    "\n",
    "\n"
   ]
  },
  {
   "cell_type": "markdown",
   "id": "4ea72dbe",
   "metadata": {},
   "source": [
    "As always, let's start by constructing the TLE:"
   ]
  },
  {
   "cell_type": "code",
   "execution_count": 3,
   "id": "1ef62c01",
   "metadata": {},
   "outputs": [],
   "source": [
    "lines=[]\n",
    "lines.append(\"0 COSMOS 2251 DEB\")\n",
    "lines.append(\"1 34427U 93036RU  22068.94647328  .00008100  00000-0  11455-2 0  9999\")\n",
    "lines.append(\"2 34427  74.0145 306.8269 0033346  13.0723 347.1308 14.76870515693886\")\n",
    "my_tle=dsgp4.tle.TLE(lines)\n",
    "tle_elements=dsgp4.initialize_tle(my_tle,with_grad=True);"
   ]
  },
  {
   "cell_type": "markdown",
   "id": "9f62708b",
   "metadata": {},
   "source": [
    "Let's now construct the initial RTN covariance matrix, and the initial TEME state:"
   ]
  },
  {
   "cell_type": "code",
   "execution_count": 4,
   "id": "c1f8708f",
   "metadata": {},
   "outputs": [
    {
     "name": "stdout",
     "output_type": "stream",
     "text": [
      "RTN covariance matrix is: [[1.e+01 0.e+00 0.e+00 0.e+00 0.e+00 0.e+00]\n",
      " [0.e+00 1.e+02 0.e+00 0.e+00 0.e+00 0.e+00]\n",
      " [0.e+00 0.e+00 1.e+01 0.e+00 0.e+00 0.e+00]\n",
      " [0.e+00 0.e+00 0.e+00 1.e-03 0.e+00 0.e+00]\n",
      " [0.e+00 0.e+00 0.e+00 0.e+00 1.e-01 0.e+00]\n",
      " [0.e+00 0.e+00 0.e+00 0.e+00 0.e+00 1.e-03]]\n",
      "Initial state in Cartesian TEME is: tensor([[ 4.1941e+03, -5.6009e+03,  4.2616e-02],\n",
      "        [ 1.6578e+00,  1.2582e+00,  7.2697e+00]], grad_fn=<TransposeBackward0>)\n"
     ]
    }
   ],
   "source": [
    "def matrix_rtn(cov):\n",
    "    cov_matrix_rtn=np.array([cov['sigma_rr'],\n",
    "                             cov['sigma_rt'],\n",
    "                             cov['sigma_rn'],\n",
    "                             cov['sigma_vr'],\n",
    "                             cov['sigma_vt'],\n",
    "                             cov['sigma_vn']])\n",
    "    cov_matrix_rtn=np.diag(cov_matrix_rtn)\n",
    "    return cov_matrix_rtn\n",
    "\n",
    "covariance_diagonal={\"sigma_rr\":10, \n",
    "                     \"sigma_rt\":100, \n",
    "                     \"sigma_rn\":10, \n",
    "                     \"sigma_vr\":1e-3, \n",
    "                     \"sigma_vt\":1e-1, \n",
    "                     \"sigma_vn\":1e-3}\n",
    "\n",
    "cov_matrix_rtn=matrix_rtn(covariance_diagonal)\n",
    "print(f\"RTN covariance matrix is: {cov_matrix_rtn}\")\n",
    "state_teme=dsgp4.propagate(my_tle,0.)\n",
    "print(f\"Initial state in Cartesian TEME is: {state_teme}\")"
   ]
  },
  {
   "cell_type": "markdown",
   "id": "ea3e9bfb",
   "metadata": {},
   "source": [
    "Let's now transform the covariance from RTN to Cartesian TEME:"
   ]
  },
  {
   "cell_type": "code",
   "execution_count": 5,
   "id": "62e040d9",
   "metadata": {},
   "outputs": [],
   "source": [
    "def rotation_matrix(state):\n",
    "    \"\"\"\n",
    "    Computes the UVW rotation matrix.\n",
    "\n",
    "    Args:\n",
    "        state (`numpy.array`): numpy array of 2 rows and 3 columns, where\n",
    "                                    the first row represents position, and the second velocity.\n",
    "\n",
    "    Returns:\n",
    "        `numpy.array`: numpy array of the rotation matrix from the cartesian state.\n",
    "    \"\"\"\n",
    "    r, v = state[0], state[1]\n",
    "    u = r / np.linalg.norm(r)\n",
    "    w = np.cross(r, v)\n",
    "    w = w / np.linalg.norm(w)\n",
    "    v = np.cross(w, u)\n",
    "    return np.vstack((u, v, w))\n",
    "\n",
    "def from_cartesian_to_rtn(state, cartesian_to_rtn_rotation_matrix=None):\n",
    "    \"\"\"\n",
    "    Converts a cartesian state to the RTN frame.\n",
    "\n",
    "    Args:\n",
    "        state (`numpy.array`): numpy array of 2 rows and 3 columns, where\n",
    "                                    the first row represents position, and the second velocity.\n",
    "        cartesian_to_rtn_rotation_matrix (`numpy.array`): numpy array of the rotation matrix from the cartesian state. If None, it is computed.\n",
    "\n",
    "    Returns:\n",
    "        `numpy.array`: numpy array of the RTN state.\n",
    "    \"\"\"\n",
    "    # Use the supplied rotation matrix if available, otherwise compute it\n",
    "    if cartesian_to_rtn_rotation_matrix is None:\n",
    "        cartesian_to_rtn_rotation_matrix = rotation_matrix(state)\n",
    "    r, v = state[0], state[1]\n",
    "    r_rtn = np.dot(cartesian_to_rtn_rotation_matrix, r)\n",
    "    v_rtn = np.dot(cartesian_to_rtn_rotation_matrix, v)\n",
    "    return np.stack([r_rtn, v_rtn]), cartesian_to_rtn_rotation_matrix\n"
   ]
  },
  {
   "cell_type": "code",
   "execution_count": 6,
   "id": "f06046e7",
   "metadata": {},
   "outputs": [
    {
     "name": "stdout",
     "output_type": "stream",
     "text": [
      "Cartesian TEME covariance matrix is: [[1.43678346e+01 3.27091412e+00 1.90611714e+01 0.00000000e+00\n",
      "  0.00000000e+00 0.00000000e+00]\n",
      " [3.27091412e+00 1.24494699e+01 1.42742252e+01 0.00000000e+00\n",
      "  0.00000000e+00 0.00000000e+00]\n",
      " [1.90611714e+01 1.42742252e+01 9.31826956e+01 0.00000000e+00\n",
      "  0.00000000e+00 0.00000000e+00]\n",
      " [0.00000000e+00 0.00000000e+00 0.00000000e+00 5.80461804e-03\n",
      "  3.59800553e-03 2.09672885e-02]\n",
      " [0.00000000e+00 0.00000000e+00 0.00000000e+00 3.59800553e-03\n",
      "  3.69441685e-03 1.57016478e-02]\n",
      " [0.00000000e+00 0.00000000e+00 0.00000000e+00 2.09672885e-02\n",
      "  1.57016478e-02 9.25009651e-02]]\n"
     ]
    }
   ],
   "source": [
    "###### RTN->Cartesian Rotation ######\n",
    "state_rtn, cartesian_to_rtn_rotation_matrix = from_cartesian_to_rtn(state_teme.detach().numpy())\n",
    "transformation_matrix_cartesian_to_rtn = np.zeros((6,6))\n",
    "transformation_matrix_cartesian_to_rtn[0:3, 0:3] = cartesian_to_rtn_rotation_matrix\n",
    "transformation_matrix_cartesian_to_rtn[3:,3:] = cartesian_to_rtn_rotation_matrix\n",
    "C_teme = np.matmul(np.matmul(transformation_matrix_cartesian_to_rtn.T, cov_matrix_rtn),transformation_matrix_cartesian_to_rtn)\n",
    "print(f\"Cartesian TEME covariance matrix is: {C_teme}\")"
   ]
  },
  {
   "cell_type": "code",
   "execution_count": 7,
   "id": "cebfb9a3",
   "metadata": {},
   "outputs": [
    {
     "name": "stdout",
     "output_type": "stream",
     "text": [
      "Was the RTN->Cartesian transformation correct? True\n"
     ]
    }
   ],
   "source": [
    "#quick check to confirm the transformation was correct:\n",
    "C_rtn2 = np.matmul(np.matmul(transformation_matrix_cartesian_to_rtn, C_teme),transformation_matrix_cartesian_to_rtn.T)\n",
    "print(f\"Was the RTN->Cartesian transformation correct? {np.allclose(C_rtn2,cov_matrix_rtn)}\")"
   ]
  },
  {
   "cell_type": "code",
   "execution_count": 14,
   "id": "dc2d861c",
   "metadata": {},
   "outputs": [
    {
     "data": {
      "text/plain": [
       "array([[1.43678346e+01, 3.27091412e+00, 1.90611714e+01, 0.00000000e+00,\n",
       "        0.00000000e+00, 0.00000000e+00],\n",
       "       [3.27091412e+00, 1.24494699e+01, 1.42742252e+01, 0.00000000e+00,\n",
       "        0.00000000e+00, 0.00000000e+00],\n",
       "       [1.90611714e+01, 1.42742252e+01, 9.31826956e+01, 0.00000000e+00,\n",
       "        0.00000000e+00, 0.00000000e+00],\n",
       "       [0.00000000e+00, 0.00000000e+00, 0.00000000e+00, 5.80461804e-03,\n",
       "        3.59800553e-03, 2.09672885e-02],\n",
       "       [0.00000000e+00, 0.00000000e+00, 0.00000000e+00, 3.59800553e-03,\n",
       "        3.69441685e-03, 1.57016478e-02],\n",
       "       [0.00000000e+00, 0.00000000e+00, 0.00000000e+00, 2.09672885e-02,\n",
       "        1.57016478e-02, 9.25009651e-02]])"
      ]
     },
     "execution_count": 14,
     "metadata": {},
     "output_type": "execute_result"
    }
   ],
   "source": [
    "C_teme"
   ]
  },
  {
   "cell_type": "markdown",
   "id": "dc8181b1",
   "metadata": {},
   "source": [
    "Now, we do the similarity transformation, leveraging the partials of the TLE parameters, w.r.t. the state in Cartesian TEME. For a detailed discussion (with examples) on how to compute partials with `dsgp4`, check out the tutorial `tle_propagation.ipynb`"
   ]
  },
  {
   "cell_type": "code",
   "execution_count": 8,
   "id": "5dda8a92",
   "metadata": {},
   "outputs": [
    {
     "name": "stdout",
     "output_type": "stream",
     "text": [
      "tensor([[ 0.0000e+00,  0.0000e+00,  0.0000e+00, -4.7924e+03,  1.5394e+03,\n",
      "          1.0479e+00,  1.5463e+03, -4.3390e+04,  5.6009e+03],\n",
      "        [ 0.0000e+00,  0.0000e+00,  0.0000e+00,  4.9523e+03,  1.1618e+03,\n",
      "         -3.3683e+00,  1.1736e+03,  5.7875e+04,  4.1941e+03],\n",
      "        [ 0.0000e+00,  0.0000e+00,  0.0000e+00, -3.0267e+03,  6.7277e+03,\n",
      "         -3.9559e+00,  6.7716e+03, -1.4301e+02,  0.0000e+00],\n",
      "        [ 0.0000e+00,  0.0000e+00,  0.0000e+00,  2.6362e+00, -4.5385e+00,\n",
      "         -5.8152e+00, -4.5521e+00,  8.6044e+00, -1.2582e+00],\n",
      "        [ 0.0000e+00,  0.0000e+00,  0.0000e+00, -1.3649e-01,  6.0581e+00,\n",
      "         -4.3574e+00,  6.0789e+00,  6.4300e+00,  1.6578e+00],\n",
      "        [ 0.0000e+00,  0.0000e+00,  0.0000e+00,  7.0851e+00, -5.4891e-03,\n",
      "          2.0766e+00, -4.7732e-05,  3.7622e+01,  0.0000e+00]])\n"
     ]
    }
   ],
   "source": [
    "#let's construct the 6x9 matrix of partials:\n",
    "dx_dtle = torch.zeros((6,9))\n",
    "for i in range(6):\n",
    "    tle_elements.grad=None\n",
    "    state_teme.flatten()[i].backward(retain_graph=True)\n",
    "    dx_dtle[i,:] = tle_elements.grad\n",
    "#let's print them to screen:\n",
    "print(dx_dtle)"
   ]
  },
  {
   "cell_type": "code",
   "execution_count": 9,
   "id": "ccea4ad9",
   "metadata": {},
   "outputs": [],
   "source": [
    "#now, we can apply the similarity transformation, and obtain the 9x9 covariance matrix in TLE elements:\n",
    "Cov_tle=np.matmul(np.matmul(np.linalg.pinv(dx_dtle),C_teme),np.linalg.pinv(dx_dtle.T))"
   ]
  },
  {
   "cell_type": "code",
   "execution_count": 10,
   "id": "c1e33d6d",
   "metadata": {},
   "outputs": [
    {
     "name": "stdout",
     "output_type": "stream",
     "text": [
      "Was the TLE->Cartesian transformation correct? True\n"
     ]
    }
   ],
   "source": [
    "#quick check to confirm we are doing things correctly:\n",
    "C_xyz_2=np.matmul(np.matmul(dx_dtle,Cov_tle),dx_dtle.T)\n",
    "print(f\"Was the TLE->Cartesian transformation correct? {np.allclose(C_xyz_2, C_teme)}\")\n"
   ]
  }
 ],
 "metadata": {
  "kernelspec": {
   "display_name": "Python 3 (ipykernel)",
   "language": "python",
   "name": "python3"
  },
  "language_info": {
   "codemirror_mode": {
    "name": "ipython",
    "version": 3
   },
   "file_extension": ".py",
   "mimetype": "text/x-python",
   "name": "python",
   "nbconvert_exporter": "python",
   "pygments_lexer": "ipython3",
   "version": "3.10.12"
  }
 },
 "nbformat": 4,
 "nbformat_minor": 5
}
