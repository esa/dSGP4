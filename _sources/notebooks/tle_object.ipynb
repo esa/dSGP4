{
 "cells": [
  {
   "cell_type": "markdown",
   "metadata": {},
   "source": [
    "# TLE Object\n",
    "\n",
    "In this notebook we will discuss the usage of the TLE object: this allows the user to create a TLE object from a string or file. \n",
    "\n",
    "The TLE class then allows easy manipulation and update of the TLE values, as well as the interface with the dSGP4 propagator (for a tutorial on the propagation see: )."
   ]
  },
  {
   "cell_type": "markdown",
   "metadata": {},
   "source": [
    "## Imports"
   ]
  },
  {
   "cell_type": "code",
   "execution_count": 1,
   "metadata": {},
   "outputs": [],
   "source": [
    "import dsgp4"
   ]
  },
  {
   "cell_type": "markdown",
   "metadata": {},
   "source": [
    "## Load TLE from `str`\n",
    "\n",
    "Here, we show how to load TLEs from a list of strings:"
   ]
  },
  {
   "cell_type": "code",
   "execution_count": 93,
   "metadata": {},
   "outputs": [
    {
     "name": "stdout",
     "output_type": "stream",
     "text": [
      "TLE(\n",
      "0 TIMATION 1\n",
      "1  2847U 67053E   24063.46171465  .00000366  00000-0  27411-3 0  9994\n",
      "2  2847  69.9643 216.8651 0003597  77.7866 282.3646 14.02285835897007\n",
      ")\n"
     ]
    }
   ],
   "source": [
    "#let us assume we have the following two lines for the TLE, plus the first line that indicates the satellite name:\n",
    "tle_lines = []\n",
    "tle_lines.append('0 TIMATION 1')\n",
    "tle_lines.append('1  2847U 67053E   24063.46171465  .00000366  00000-0  27411-3 0  9994')\n",
    "tle_lines.append('2  2847  69.9643 216.8651 0003597  77.7866 282.3646 14.02285835897007')\n",
    "\n",
    "#let us construct the TLE object\n",
    "tle=dsgp4.tle.TLE(tle_lines)\n",
    "print(tle)"
   ]
  },
  {
   "cell_type": "markdown",
   "metadata": {},
   "source": [
    "All right, we can now access the TLE info as if it was a dictionary, or as attributes of the class:"
   ]
  },
  {
   "cell_type": "code",
   "execution_count": 43,
   "metadata": {},
   "outputs": [
    {
     "name": "stdout",
     "output_type": "stream",
     "text": [
      "TLE elements:\n",
      "Satellite catalog number: 2847\n",
      "Classification: U\n",
      "International designator: 67053E\n",
      "Epoch year: 2024\n",
      "Epoch day: 63.46171465\n",
      "First time derivative of the mean motion: 1.1090112955380637e-11\n",
      "Second time derivative of the mean motion: 0.0\n",
      "BSTAR drag term: 0.00027411000000000004\n",
      "Element set number: 999\n",
      "Inclination [rad]: 1.2211073938530685\n",
      "Right ascension of the ascending node [rad]: 3.785010027666755\n",
      "Eccentricity [-]: 0.0003597\n",
      "Argument of perigee [rad]: 1.3576322839318213\n",
      "Right ascension of ascending node [rad]: 3.785010027666755\n",
      "Mean anomaly [rad]: 4.928191961076781\n",
      "Mean motion [rad/min]: 0.061186262187069844\n"
     ]
    }
   ],
   "source": [
    "#let's print all TLE elements:\n",
    "print(\"TLE elements:\")\n",
    "print(f\"Satellite catalog number: {tle.satellite_catalog_number}\")\n",
    "print(f\"Classification: {tle.classification}\")\n",
    "print(f\"International designator: {tle.international_designator}\")\n",
    "print(f\"Epoch year: {tle.epoch_year}\")\n",
    "print(f\"Epoch day: {tle.epoch_days}\")\n",
    "print(f\"First time derivative of the mean motion: {tle._ndot}\")\n",
    "print(f\"Second time derivative of the mean motion: {tle._nddot}\")\n",
    "print(f\"BSTAR drag term: {tle._bstar}\")\n",
    "print(f\"Element set number: {tle.element_number}\")\n",
    "print(f\"Inclination [rad]: {tle._inclo}\")\n",
    "print(f\"Right ascension of the ascending node [rad]: {tle._nodeo}\")\n",
    "print(f\"Eccentricity [-]: {tle._ecco}\")\n",
    "print(f\"Argument of perigee [rad]: {tle._argpo}\")\n",
    "print(f\"Right ascension of ascending node [rad]: {tle._nodeo}\")\n",
    "print(f\"Mean anomaly [rad]: {tle._mo}\")\n",
    "print(f\"Mean motion [rad/min]: {tle._no_kozai}\")"
   ]
  },
  {
   "cell_type": "markdown",
   "metadata": {},
   "source": [
    "We also have access to a few perhaps handy methods:"
   ]
  },
  {
   "cell_type": "code",
   "execution_count": 59,
   "metadata": {},
   "outputs": [
    {
     "name": "stdout",
     "output_type": "stream",
     "text": [
      "Semi-major axis [km]: 7264.027802311157\n",
      "Apogee radius [km]: 888.5036731116484\n",
      "Perigee radius [km]: 883.2779315106654\n"
     ]
    }
   ],
   "source": [
    "#let's first define the Earth radius according to WSG-84:\n",
    "r_earth=dsgp4.util.get_gravity_constants('wgs-84')[2].numpy()*1e3\n",
    "\n",
    "#let's extract the semi-major axis:\n",
    "print(f\"Semi-major axis [km]: {tle.semi_major_axis.numpy()*1e-3}\")\n",
    "\n",
    "#let's extract the TLE apogee & perigee altitudes:\n",
    "print(f\"Apogee radius [km]: {tle.apogee_alt(r_earth).numpy()*1e-3}\")\n",
    "print(f\"Perigee radius [km]: {tle.perigee_alt(r_earth).numpy()*1e-3}\")"
   ]
  },
  {
   "cell_type": "markdown",
   "metadata": {},
   "source": [
    "## Load TLE from `dic`\n",
    "\n",
    "Here, we show how to load TLEs from a dictionary. First, let's define the TLE elements in a dictionary:"
   ]
  },
  {
   "cell_type": "code",
   "execution_count": 89,
   "metadata": {},
   "outputs": [],
   "source": [
    "tle_dictionary=dict(\n",
    "                    satellite_catalog_number=43437,\n",
    "                    classification='U',\n",
    "                    international_designator='18100A',\n",
    "                    epoch_year=2020,\n",
    "                    epoch_days=143.90384230,\n",
    "                    ephemeris_type=0,\n",
    "                    element_number=9996,\n",
    "                    revolution_number_at_epoch=56353,\n",
    "                    mean_motion=0.0011,\n",
    "                    mean_motion_first_derivative=0.,\n",
    "                    mean_motion_second_derivative=0.,\n",
    "                    eccentricity=0.0221,\n",
    "                    inclination=1.7074,\n",
    "                    argument_of_perigee=2.1627,\n",
    "                    raan=4.3618,\n",
    "                    mean_anomaly=4.5224,\n",
    "                    b_star=0.0001)"
   ]
  },
  {
   "cell_type": "code",
   "execution_count": 92,
   "metadata": {},
   "outputs": [
    {
     "name": "stdout",
     "output_type": "stream",
     "text": [
      "TLE(\n",
      "1 43437U 18100A   20143.90384230  .00000000  00000-0  10000-3 0 99960\n",
      "2 43437  97.8268 249.9127 0221000 123.9136 259.1144 15.12608579563539\n",
      ")\n"
     ]
    }
   ],
   "source": [
    "#now the same API as above applies:\n",
    "tle = dsgp4.tle.TLE(tle_dictionary)\n",
    "print(tle)"
   ]
  },
  {
   "cell_type": "markdown",
   "metadata": {},
   "source": [
    "## Load TLEs from file:\n",
    "\n",
    "Here, we load the TLEs directly from file. We assume the user has downloaded the TLE data, for instance from [Space-Track](https://www.space-track.org/), and has placed such data in the `example.tle` file. \n",
    "\n",
    "Then, we can simply load all TLEs using `dsgp4`. This will construct a list of TLE objects:\n",
    "\n",
    "```{note}\n",
    "The TLE file can or cannot contain the extra descriptive line that specifies the TLE name. The following lines should work either way.\n",
    "```"
   ]
  },
  {
   "cell_type": "code",
   "execution_count": 95,
   "metadata": {},
   "outputs": [
    {
     "name": "stdout",
     "output_type": "stream",
     "text": [
      "[TLE(\n",
      "0 COSMOS 2251 DEB\n",
      "1 34454U 93036SX  22068.91971155  .00000319  00000-0  11812-3 0  9996\n",
      "2 34454  74.0583 280.7094 0037596 327.9100  31.9764 14.35844873683320\n",
      "), TLE(\n",
      "0 COSMOS 2251 DEB\n",
      "1 34456U 93036SZ  22068.85349922  .00005488  00000-0  13805-2 0  9997\n",
      "2 34456  74.0462 226.5559 0056524 251.9784 107.5213 14.50477917685046\n",
      "), TLE(\n",
      "0 COSMOS 2251 DEB\n",
      "1 34457U 93036TA  22068.86184197  .00003162  00000-0  55362-3 0  9992\n",
      "2 34457  74.0015 304.7929 0101048  52.3409  79.2774 14.64945713693281\n",
      ")]\n"
     ]
    }
   ],
   "source": [
    "tles=dsgp4.tle.load('example.tle')\n",
    "print(tles)"
   ]
  }
 ],
 "metadata": {
  "kernelspec": {
   "display_name": "dsgp4",
   "language": "python",
   "name": "python3"
  },
  "language_info": {
   "codemirror_mode": {
    "name": "ipython",
    "version": 3
   },
   "file_extension": ".py",
   "mimetype": "text/x-python",
   "name": "python",
   "nbconvert_exporter": "python",
   "pygments_lexer": "ipython3",
   "version": "3.10.12"
  },
  "orig_nbformat": 4
 },
 "nbformat": 4,
 "nbformat_minor": 2
}
