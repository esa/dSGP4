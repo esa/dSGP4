{
 "cells": [
  {
   "cell_type": "markdown",
   "id": "96b808b8",
   "metadata": {},
   "source": [
    "# Credits\n",
    "\n",
    "$\\partial\\textrm{SGP4}$ was developed during a project sponsored by the University of Oxford, while Giacomo Acciarini was at the [OX4AILab](https://oxai4science.github.io/) collaborating with Dr. Atılım Güneş Baydin.\n",
    "\n",
    "The main developers are: Giacomo Acciarini ( giacomo.acciarini@gmail.com ), Atılım Güneş Baydin ( gunes@robots.ox.ac.uk )."
   ]
  }
 ],
 "metadata": {
  "kernelspec": {
   "display_name": "Python 3 (ipykernel)",
   "language": "python",
   "name": "python3"
  },
  "language_info": {
   "codemirror_mode": {
    "name": "ipython",
    "version": 3
   },
   "file_extension": ".py",
   "mimetype": "text/x-python",
   "name": "python",
   "nbconvert_exporter": "python",
   "pygments_lexer": "ipython3",
   "version": "3.8.15"
  }
 },
 "nbformat": 4,
 "nbformat_minor": 5
}
